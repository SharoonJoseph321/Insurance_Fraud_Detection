{
  "cells": [
    {
      "cell_type": "code",
      "execution_count": 1,
      "metadata": {
        "id": "T7CKrojLKjjC"
      },
      "outputs": [],
      "source": [
        "import pandas as pd\n",
        "import matplotlib.pyplot as plt\n",
        "import seaborn as sns\n",
        "import pyspark\n",
        "from pyspark.sql import SparkSession\n",
        "from pyspark.sql import functions as F"
      ]
    },
    {
      "cell_type": "code",
      "execution_count": 2,
      "metadata": {
        "id": "7w4fZGRYEgnT"
      },
      "outputs": [],
      "source": [
        "\n",
        "# Initialize Spark session\n",
        "spark = SparkSession.builder.appName(\"Read_CSV\").getOrCreate()\n",
        "\n",
        "# Load data\n",
        "Data = spark.read.csv(\"Insurance_data.csv\", sep=\",\", inferSchema=\"true\",header=\"true\")"
      ]
    },
    {
      "cell_type": "code",
      "execution_count": 3,
      "metadata": {
        "colab": {
          "base_uri": "https://localhost:8080/",
          "height": 412
        },
        "id": "_Pbf9l3nTHbT",
        "outputId": "3026e25e-75ab-4930-c6c0-565ba36f4989"
      },
      "outputs": [
        {
          "data": {
            "application/vnd.google.colaboratory.intrinsic+json": {
              "type": "dataframe"
            },
            "text/html": [
              "\n",
              "  <div id=\"df-54e51f14-7d1b-46a8-b3b1-b07ad6d0e0d4\" class=\"colab-df-container\">\n",
              "    <div>\n",
              "<style scoped>\n",
              "    .dataframe tbody tr th:only-of-type {\n",
              "        vertical-align: middle;\n",
              "    }\n",
              "\n",
              "    .dataframe tbody tr th {\n",
              "        vertical-align: top;\n",
              "    }\n",
              "\n",
              "    .dataframe thead th {\n",
              "        text-align: right;\n",
              "    }\n",
              "</style>\n",
              "<table border=\"1\" class=\"dataframe\">\n",
              "  <thead>\n",
              "    <tr style=\"text-align: right;\">\n",
              "      <th></th>\n",
              "      <th>Month</th>\n",
              "      <th>WeekOfMonth</th>\n",
              "      <th>DayOfWeek</th>\n",
              "      <th>Make</th>\n",
              "      <th>AccidentArea</th>\n",
              "      <th>DayOfWeekClaimed</th>\n",
              "      <th>MonthClaimed</th>\n",
              "      <th>WeekOfMonthClaimed</th>\n",
              "      <th>Sex</th>\n",
              "      <th>MaritalStatus</th>\n",
              "      <th>...</th>\n",
              "      <th>AgeOfVehicle</th>\n",
              "      <th>AgeOfPolicyHolder</th>\n",
              "      <th>PoliceReportFiled</th>\n",
              "      <th>WitnessPresent</th>\n",
              "      <th>AgentType</th>\n",
              "      <th>NumberOfSuppliments</th>\n",
              "      <th>AddressChange_Claim</th>\n",
              "      <th>NumberOfCars</th>\n",
              "      <th>Year</th>\n",
              "      <th>BasePolicy</th>\n",
              "    </tr>\n",
              "  </thead>\n",
              "  <tbody>\n",
              "    <tr>\n",
              "      <th>0</th>\n",
              "      <td>Dec</td>\n",
              "      <td>5</td>\n",
              "      <td>Wednesday</td>\n",
              "      <td>Honda</td>\n",
              "      <td>Urban</td>\n",
              "      <td>Tuesday</td>\n",
              "      <td>Jan</td>\n",
              "      <td>1</td>\n",
              "      <td>Female</td>\n",
              "      <td>Single</td>\n",
              "      <td>...</td>\n",
              "      <td>3 years</td>\n",
              "      <td>26 to 30</td>\n",
              "      <td>No</td>\n",
              "      <td>No</td>\n",
              "      <td>External</td>\n",
              "      <td>none</td>\n",
              "      <td>1 year</td>\n",
              "      <td>3 to 4</td>\n",
              "      <td>1994</td>\n",
              "      <td>Liability</td>\n",
              "    </tr>\n",
              "    <tr>\n",
              "      <th>1</th>\n",
              "      <td>Jan</td>\n",
              "      <td>3</td>\n",
              "      <td>Wednesday</td>\n",
              "      <td>Honda</td>\n",
              "      <td>Urban</td>\n",
              "      <td>Monday</td>\n",
              "      <td>Jan</td>\n",
              "      <td>4</td>\n",
              "      <td>Male</td>\n",
              "      <td>Single</td>\n",
              "      <td>...</td>\n",
              "      <td>6 years</td>\n",
              "      <td>31 to 35</td>\n",
              "      <td>Yes</td>\n",
              "      <td>No</td>\n",
              "      <td>External</td>\n",
              "      <td>none</td>\n",
              "      <td>no change</td>\n",
              "      <td>1 vehicle</td>\n",
              "      <td>1994</td>\n",
              "      <td>Collision</td>\n",
              "    </tr>\n",
              "    <tr>\n",
              "      <th>2</th>\n",
              "      <td>Oct</td>\n",
              "      <td>5</td>\n",
              "      <td>Friday</td>\n",
              "      <td>Honda</td>\n",
              "      <td>Urban</td>\n",
              "      <td>Thursday</td>\n",
              "      <td>Nov</td>\n",
              "      <td>2</td>\n",
              "      <td>Male</td>\n",
              "      <td>Married</td>\n",
              "      <td>...</td>\n",
              "      <td>7 years</td>\n",
              "      <td>41 to 50</td>\n",
              "      <td>No</td>\n",
              "      <td>No</td>\n",
              "      <td>External</td>\n",
              "      <td>none</td>\n",
              "      <td>no change</td>\n",
              "      <td>1 vehicle</td>\n",
              "      <td>1994</td>\n",
              "      <td>Collision</td>\n",
              "    </tr>\n",
              "    <tr>\n",
              "      <th>3</th>\n",
              "      <td>Jun</td>\n",
              "      <td>2</td>\n",
              "      <td>Saturday</td>\n",
              "      <td>Toyota</td>\n",
              "      <td>Rural</td>\n",
              "      <td>Friday</td>\n",
              "      <td>Jul</td>\n",
              "      <td>1</td>\n",
              "      <td>Male</td>\n",
              "      <td>Married</td>\n",
              "      <td>...</td>\n",
              "      <td>more than 7</td>\n",
              "      <td>51 to 65</td>\n",
              "      <td>Yes</td>\n",
              "      <td>No</td>\n",
              "      <td>External</td>\n",
              "      <td>more than 5</td>\n",
              "      <td>no change</td>\n",
              "      <td>1 vehicle</td>\n",
              "      <td>1994</td>\n",
              "      <td>Liability</td>\n",
              "    </tr>\n",
              "    <tr>\n",
              "      <th>4</th>\n",
              "      <td>Jan</td>\n",
              "      <td>5</td>\n",
              "      <td>Monday</td>\n",
              "      <td>Honda</td>\n",
              "      <td>Urban</td>\n",
              "      <td>Tuesday</td>\n",
              "      <td>Feb</td>\n",
              "      <td>2</td>\n",
              "      <td>Female</td>\n",
              "      <td>Single</td>\n",
              "      <td>...</td>\n",
              "      <td>5 years</td>\n",
              "      <td>31 to 35</td>\n",
              "      <td>No</td>\n",
              "      <td>No</td>\n",
              "      <td>External</td>\n",
              "      <td>none</td>\n",
              "      <td>no change</td>\n",
              "      <td>1 vehicle</td>\n",
              "      <td>1994</td>\n",
              "      <td>Collision</td>\n",
              "    </tr>\n",
              "    <tr>\n",
              "      <th>5</th>\n",
              "      <td>Oct</td>\n",
              "      <td>4</td>\n",
              "      <td>Friday</td>\n",
              "      <td>Honda</td>\n",
              "      <td>Urban</td>\n",
              "      <td>Wednesday</td>\n",
              "      <td>Nov</td>\n",
              "      <td>1</td>\n",
              "      <td>Male</td>\n",
              "      <td>Single</td>\n",
              "      <td>...</td>\n",
              "      <td>5 years</td>\n",
              "      <td>21 to 25</td>\n",
              "      <td>No</td>\n",
              "      <td>No</td>\n",
              "      <td>External</td>\n",
              "      <td>3 to 5</td>\n",
              "      <td>no change</td>\n",
              "      <td>1 vehicle</td>\n",
              "      <td>1994</td>\n",
              "      <td>Collision</td>\n",
              "    </tr>\n",
              "    <tr>\n",
              "      <th>6</th>\n",
              "      <td>Feb</td>\n",
              "      <td>1</td>\n",
              "      <td>Saturday</td>\n",
              "      <td>Honda</td>\n",
              "      <td>Urban</td>\n",
              "      <td>Monday</td>\n",
              "      <td>Feb</td>\n",
              "      <td>3</td>\n",
              "      <td>Male</td>\n",
              "      <td>Married</td>\n",
              "      <td>...</td>\n",
              "      <td>7 years</td>\n",
              "      <td>36 to 40</td>\n",
              "      <td>No</td>\n",
              "      <td>No</td>\n",
              "      <td>External</td>\n",
              "      <td>1 to 2</td>\n",
              "      <td>no change</td>\n",
              "      <td>1 vehicle</td>\n",
              "      <td>1994</td>\n",
              "      <td>Collision</td>\n",
              "    </tr>\n",
              "    <tr>\n",
              "      <th>7</th>\n",
              "      <td>Nov</td>\n",
              "      <td>1</td>\n",
              "      <td>Friday</td>\n",
              "      <td>Honda</td>\n",
              "      <td>Urban</td>\n",
              "      <td>Tuesday</td>\n",
              "      <td>Mar</td>\n",
              "      <td>4</td>\n",
              "      <td>Male</td>\n",
              "      <td>Single</td>\n",
              "      <td>...</td>\n",
              "      <td>new</td>\n",
              "      <td>16 to 17</td>\n",
              "      <td>No</td>\n",
              "      <td>No</td>\n",
              "      <td>External</td>\n",
              "      <td>none</td>\n",
              "      <td>no change</td>\n",
              "      <td>1 vehicle</td>\n",
              "      <td>1994</td>\n",
              "      <td>Collision</td>\n",
              "    </tr>\n",
              "    <tr>\n",
              "      <th>8</th>\n",
              "      <td>Dec</td>\n",
              "      <td>4</td>\n",
              "      <td>Saturday</td>\n",
              "      <td>Honda</td>\n",
              "      <td>Urban</td>\n",
              "      <td>Wednesday</td>\n",
              "      <td>Dec</td>\n",
              "      <td>5</td>\n",
              "      <td>Male</td>\n",
              "      <td>Single</td>\n",
              "      <td>...</td>\n",
              "      <td>6 years</td>\n",
              "      <td>31 to 35</td>\n",
              "      <td>No</td>\n",
              "      <td>Yes</td>\n",
              "      <td>External</td>\n",
              "      <td>3 to 5</td>\n",
              "      <td>no change</td>\n",
              "      <td>1 vehicle</td>\n",
              "      <td>1994</td>\n",
              "      <td>Collision</td>\n",
              "    </tr>\n",
              "    <tr>\n",
              "      <th>9</th>\n",
              "      <td>Apr</td>\n",
              "      <td>3</td>\n",
              "      <td>Tuesday</td>\n",
              "      <td>Ford</td>\n",
              "      <td>Urban</td>\n",
              "      <td>Wednesday</td>\n",
              "      <td>Apr</td>\n",
              "      <td>3</td>\n",
              "      <td>Male</td>\n",
              "      <td>Married</td>\n",
              "      <td>...</td>\n",
              "      <td>more than 7</td>\n",
              "      <td>36 to 40</td>\n",
              "      <td>No</td>\n",
              "      <td>No</td>\n",
              "      <td>External</td>\n",
              "      <td>3 to 5</td>\n",
              "      <td>no change</td>\n",
              "      <td>1 vehicle</td>\n",
              "      <td>1994</td>\n",
              "      <td>All Perils</td>\n",
              "    </tr>\n",
              "  </tbody>\n",
              "</table>\n",
              "<p>10 rows × 33 columns</p>\n",
              "</div>\n",
              "    <div class=\"colab-df-buttons\">\n",
              "\n",
              "  <div class=\"colab-df-container\">\n",
              "    <button class=\"colab-df-convert\" onclick=\"convertToInteractive('df-54e51f14-7d1b-46a8-b3b1-b07ad6d0e0d4')\"\n",
              "            title=\"Convert this dataframe to an interactive table.\"\n",
              "            style=\"display:none;\">\n",
              "\n",
              "  <svg xmlns=\"http://www.w3.org/2000/svg\" height=\"24px\" viewBox=\"0 -960 960 960\">\n",
              "    <path d=\"M120-120v-720h720v720H120Zm60-500h600v-160H180v160Zm220 220h160v-160H400v160Zm0 220h160v-160H400v160ZM180-400h160v-160H180v160Zm440 0h160v-160H620v160ZM180-180h160v-160H180v160Zm440 0h160v-160H620v160Z\"/>\n",
              "  </svg>\n",
              "    </button>\n",
              "\n",
              "  <style>\n",
              "    .colab-df-container {\n",
              "      display:flex;\n",
              "      gap: 12px;\n",
              "    }\n",
              "\n",
              "    .colab-df-convert {\n",
              "      background-color: #E8F0FE;\n",
              "      border: none;\n",
              "      border-radius: 50%;\n",
              "      cursor: pointer;\n",
              "      display: none;\n",
              "      fill: #1967D2;\n",
              "      height: 32px;\n",
              "      padding: 0 0 0 0;\n",
              "      width: 32px;\n",
              "    }\n",
              "\n",
              "    .colab-df-convert:hover {\n",
              "      background-color: #E2EBFA;\n",
              "      box-shadow: 0px 1px 2px rgba(60, 64, 67, 0.3), 0px 1px 3px 1px rgba(60, 64, 67, 0.15);\n",
              "      fill: #174EA6;\n",
              "    }\n",
              "\n",
              "    .colab-df-buttons div {\n",
              "      margin-bottom: 4px;\n",
              "    }\n",
              "\n",
              "    [theme=dark] .colab-df-convert {\n",
              "      background-color: #3B4455;\n",
              "      fill: #D2E3FC;\n",
              "    }\n",
              "\n",
              "    [theme=dark] .colab-df-convert:hover {\n",
              "      background-color: #434B5C;\n",
              "      box-shadow: 0px 1px 3px 1px rgba(0, 0, 0, 0.15);\n",
              "      filter: drop-shadow(0px 1px 2px rgba(0, 0, 0, 0.3));\n",
              "      fill: #FFFFFF;\n",
              "    }\n",
              "  </style>\n",
              "\n",
              "    <script>\n",
              "      const buttonEl =\n",
              "        document.querySelector('#df-54e51f14-7d1b-46a8-b3b1-b07ad6d0e0d4 button.colab-df-convert');\n",
              "      buttonEl.style.display =\n",
              "        google.colab.kernel.accessAllowed ? 'block' : 'none';\n",
              "\n",
              "      async function convertToInteractive(key) {\n",
              "        const element = document.querySelector('#df-54e51f14-7d1b-46a8-b3b1-b07ad6d0e0d4');\n",
              "        const dataTable =\n",
              "          await google.colab.kernel.invokeFunction('convertToInteractive',\n",
              "                                                    [key], {});\n",
              "        if (!dataTable) return;\n",
              "\n",
              "        const docLinkHtml = 'Like what you see? Visit the ' +\n",
              "          '<a target=\"_blank\" href=https://colab.research.google.com/notebooks/data_table.ipynb>data table notebook</a>'\n",
              "          + ' to learn more about interactive tables.';\n",
              "        element.innerHTML = '';\n",
              "        dataTable['output_type'] = 'display_data';\n",
              "        await google.colab.output.renderOutput(dataTable, element);\n",
              "        const docLink = document.createElement('div');\n",
              "        docLink.innerHTML = docLinkHtml;\n",
              "        element.appendChild(docLink);\n",
              "      }\n",
              "    </script>\n",
              "  </div>\n",
              "\n",
              "\n",
              "<div id=\"df-7371fb03-470e-4daf-b5b3-7928193033bc\">\n",
              "  <button class=\"colab-df-quickchart\" onclick=\"quickchart('df-7371fb03-470e-4daf-b5b3-7928193033bc')\"\n",
              "            title=\"Suggest charts\"\n",
              "            style=\"display:none;\">\n",
              "\n",
              "<svg xmlns=\"http://www.w3.org/2000/svg\" height=\"24px\"viewBox=\"0 0 24 24\"\n",
              "     width=\"24px\">\n",
              "    <g>\n",
              "        <path d=\"M19 3H5c-1.1 0-2 .9-2 2v14c0 1.1.9 2 2 2h14c1.1 0 2-.9 2-2V5c0-1.1-.9-2-2-2zM9 17H7v-7h2v7zm4 0h-2V7h2v10zm4 0h-2v-4h2v4z\"/>\n",
              "    </g>\n",
              "</svg>\n",
              "  </button>\n",
              "\n",
              "<style>\n",
              "  .colab-df-quickchart {\n",
              "      --bg-color: #E8F0FE;\n",
              "      --fill-color: #1967D2;\n",
              "      --hover-bg-color: #E2EBFA;\n",
              "      --hover-fill-color: #174EA6;\n",
              "      --disabled-fill-color: #AAA;\n",
              "      --disabled-bg-color: #DDD;\n",
              "  }\n",
              "\n",
              "  [theme=dark] .colab-df-quickchart {\n",
              "      --bg-color: #3B4455;\n",
              "      --fill-color: #D2E3FC;\n",
              "      --hover-bg-color: #434B5C;\n",
              "      --hover-fill-color: #FFFFFF;\n",
              "      --disabled-bg-color: #3B4455;\n",
              "      --disabled-fill-color: #666;\n",
              "  }\n",
              "\n",
              "  .colab-df-quickchart {\n",
              "    background-color: var(--bg-color);\n",
              "    border: none;\n",
              "    border-radius: 50%;\n",
              "    cursor: pointer;\n",
              "    display: none;\n",
              "    fill: var(--fill-color);\n",
              "    height: 32px;\n",
              "    padding: 0;\n",
              "    width: 32px;\n",
              "  }\n",
              "\n",
              "  .colab-df-quickchart:hover {\n",
              "    background-color: var(--hover-bg-color);\n",
              "    box-shadow: 0 1px 2px rgba(60, 64, 67, 0.3), 0 1px 3px 1px rgba(60, 64, 67, 0.15);\n",
              "    fill: var(--button-hover-fill-color);\n",
              "  }\n",
              "\n",
              "  .colab-df-quickchart-complete:disabled,\n",
              "  .colab-df-quickchart-complete:disabled:hover {\n",
              "    background-color: var(--disabled-bg-color);\n",
              "    fill: var(--disabled-fill-color);\n",
              "    box-shadow: none;\n",
              "  }\n",
              "\n",
              "  .colab-df-spinner {\n",
              "    border: 2px solid var(--fill-color);\n",
              "    border-color: transparent;\n",
              "    border-bottom-color: var(--fill-color);\n",
              "    animation:\n",
              "      spin 1s steps(1) infinite;\n",
              "  }\n",
              "\n",
              "  @keyframes spin {\n",
              "    0% {\n",
              "      border-color: transparent;\n",
              "      border-bottom-color: var(--fill-color);\n",
              "      border-left-color: var(--fill-color);\n",
              "    }\n",
              "    20% {\n",
              "      border-color: transparent;\n",
              "      border-left-color: var(--fill-color);\n",
              "      border-top-color: var(--fill-color);\n",
              "    }\n",
              "    30% {\n",
              "      border-color: transparent;\n",
              "      border-left-color: var(--fill-color);\n",
              "      border-top-color: var(--fill-color);\n",
              "      border-right-color: var(--fill-color);\n",
              "    }\n",
              "    40% {\n",
              "      border-color: transparent;\n",
              "      border-right-color: var(--fill-color);\n",
              "      border-top-color: var(--fill-color);\n",
              "    }\n",
              "    60% {\n",
              "      border-color: transparent;\n",
              "      border-right-color: var(--fill-color);\n",
              "    }\n",
              "    80% {\n",
              "      border-color: transparent;\n",
              "      border-right-color: var(--fill-color);\n",
              "      border-bottom-color: var(--fill-color);\n",
              "    }\n",
              "    90% {\n",
              "      border-color: transparent;\n",
              "      border-bottom-color: var(--fill-color);\n",
              "    }\n",
              "  }\n",
              "</style>\n",
              "\n",
              "  <script>\n",
              "    async function quickchart(key) {\n",
              "      const quickchartButtonEl =\n",
              "        document.querySelector('#' + key + ' button');\n",
              "      quickchartButtonEl.disabled = true;  // To prevent multiple clicks.\n",
              "      quickchartButtonEl.classList.add('colab-df-spinner');\n",
              "      try {\n",
              "        const charts = await google.colab.kernel.invokeFunction(\n",
              "            'suggestCharts', [key], {});\n",
              "      } catch (error) {\n",
              "        console.error('Error during call to suggestCharts:', error);\n",
              "      }\n",
              "      quickchartButtonEl.classList.remove('colab-df-spinner');\n",
              "      quickchartButtonEl.classList.add('colab-df-quickchart-complete');\n",
              "    }\n",
              "    (() => {\n",
              "      let quickchartButtonEl =\n",
              "        document.querySelector('#df-7371fb03-470e-4daf-b5b3-7928193033bc button');\n",
              "      quickchartButtonEl.style.display =\n",
              "        google.colab.kernel.accessAllowed ? 'block' : 'none';\n",
              "    })();\n",
              "  </script>\n",
              "</div>\n",
              "\n",
              "    </div>\n",
              "  </div>\n"
            ],
            "text/plain": [
              "  Month  WeekOfMonth  DayOfWeek    Make AccidentArea DayOfWeekClaimed  \\\n",
              "0   Dec            5  Wednesday   Honda        Urban          Tuesday   \n",
              "1   Jan            3  Wednesday   Honda        Urban           Monday   \n",
              "2   Oct            5     Friday   Honda        Urban         Thursday   \n",
              "3   Jun            2   Saturday  Toyota        Rural           Friday   \n",
              "4   Jan            5     Monday   Honda        Urban          Tuesday   \n",
              "5   Oct            4     Friday   Honda        Urban        Wednesday   \n",
              "6   Feb            1   Saturday   Honda        Urban           Monday   \n",
              "7   Nov            1     Friday   Honda        Urban          Tuesday   \n",
              "8   Dec            4   Saturday   Honda        Urban        Wednesday   \n",
              "9   Apr            3    Tuesday    Ford        Urban        Wednesday   \n",
              "\n",
              "  MonthClaimed  WeekOfMonthClaimed     Sex MaritalStatus  ...  AgeOfVehicle  \\\n",
              "0          Jan                   1  Female        Single  ...       3 years   \n",
              "1          Jan                   4    Male        Single  ...       6 years   \n",
              "2          Nov                   2    Male       Married  ...       7 years   \n",
              "3          Jul                   1    Male       Married  ...   more than 7   \n",
              "4          Feb                   2  Female        Single  ...       5 years   \n",
              "5          Nov                   1    Male        Single  ...       5 years   \n",
              "6          Feb                   3    Male       Married  ...       7 years   \n",
              "7          Mar                   4    Male        Single  ...           new   \n",
              "8          Dec                   5    Male        Single  ...       6 years   \n",
              "9          Apr                   3    Male       Married  ...   more than 7   \n",
              "\n",
              "  AgeOfPolicyHolder PoliceReportFiled WitnessPresent AgentType  \\\n",
              "0          26 to 30                No             No  External   \n",
              "1          31 to 35               Yes             No  External   \n",
              "2          41 to 50                No             No  External   \n",
              "3          51 to 65               Yes             No  External   \n",
              "4          31 to 35                No             No  External   \n",
              "5          21 to 25                No             No  External   \n",
              "6          36 to 40                No             No  External   \n",
              "7          16 to 17                No             No  External   \n",
              "8          31 to 35                No            Yes  External   \n",
              "9          36 to 40                No             No  External   \n",
              "\n",
              "   NumberOfSuppliments  AddressChange_Claim  NumberOfCars  Year  BasePolicy  \n",
              "0                 none               1 year        3 to 4  1994   Liability  \n",
              "1                 none            no change     1 vehicle  1994   Collision  \n",
              "2                 none            no change     1 vehicle  1994   Collision  \n",
              "3          more than 5            no change     1 vehicle  1994   Liability  \n",
              "4                 none            no change     1 vehicle  1994   Collision  \n",
              "5               3 to 5            no change     1 vehicle  1994   Collision  \n",
              "6               1 to 2            no change     1 vehicle  1994   Collision  \n",
              "7                 none            no change     1 vehicle  1994   Collision  \n",
              "8               3 to 5            no change     1 vehicle  1994   Collision  \n",
              "9               3 to 5            no change     1 vehicle  1994  All Perils  \n",
              "\n",
              "[10 rows x 33 columns]"
            ]
          },
          "execution_count": 3,
          "metadata": {},
          "output_type": "execute_result"
        }
      ],
      "source": [
        "Data.limit(10).toPandas()"
      ]
    },
    {
      "cell_type": "code",
      "execution_count": 4,
      "metadata": {
        "colab": {
          "base_uri": "https://localhost:8080/"
        },
        "id": "9kZz29lPrT6N",
        "outputId": "05bf0ae0-a75f-45a6-f111-8a4a28eab820"
      },
      "outputs": [
        {
          "name": "stdout",
          "output_type": "stream",
          "text": [
            "root\n",
            " |-- Month: string (nullable = true)\n",
            " |-- WeekOfMonth: integer (nullable = true)\n",
            " |-- DayOfWeek: string (nullable = true)\n",
            " |-- Make: string (nullable = true)\n",
            " |-- AccidentArea: string (nullable = true)\n",
            " |-- DayOfWeekClaimed: string (nullable = true)\n",
            " |-- MonthClaimed: string (nullable = true)\n",
            " |-- WeekOfMonthClaimed: integer (nullable = true)\n",
            " |-- Sex: string (nullable = true)\n",
            " |-- MaritalStatus: string (nullable = true)\n",
            " |-- Age: integer (nullable = true)\n",
            " |-- Fault: string (nullable = true)\n",
            " |-- PolicyType: string (nullable = true)\n",
            " |-- VehicleCategory: string (nullable = true)\n",
            " |-- VehiclePrice: string (nullable = true)\n",
            " |-- FraudFound_P: integer (nullable = true)\n",
            " |-- PolicyNumber: integer (nullable = true)\n",
            " |-- RepNumber: integer (nullable = true)\n",
            " |-- Deductible: integer (nullable = true)\n",
            " |-- DriverRating: integer (nullable = true)\n",
            " |-- Days_Policy_Accident: string (nullable = true)\n",
            " |-- Days_Policy_Claim: string (nullable = true)\n",
            " |-- PastNumberOfClaims: string (nullable = true)\n",
            " |-- AgeOfVehicle: string (nullable = true)\n",
            " |-- AgeOfPolicyHolder: string (nullable = true)\n",
            " |-- PoliceReportFiled: string (nullable = true)\n",
            " |-- WitnessPresent: string (nullable = true)\n",
            " |-- AgentType: string (nullable = true)\n",
            " |-- NumberOfSuppliments: string (nullable = true)\n",
            " |-- AddressChange_Claim: string (nullable = true)\n",
            " |-- NumberOfCars: string (nullable = true)\n",
            " |-- Year: integer (nullable = true)\n",
            " |-- BasePolicy: string (nullable = true)\n",
            "\n"
          ]
        }
      ],
      "source": [
        "Data.printSchema()"
      ]
    },
    {
      "cell_type": "code",
      "execution_count": 5,
      "metadata": {
        "id": "XxgAgdzKTQrr"
      },
      "outputs": [],
      "source": [
        "Data=Data.withColumnRenamed(\"FraudFound_P\",\"Fraud\")"
      ]
    },
    {
      "cell_type": "code",
      "execution_count": 6,
      "metadata": {
        "colab": {
          "base_uri": "https://localhost:8080/"
        },
        "id": "62ht5rFqUQpX",
        "outputId": "2c7d66f5-cb59-4039-a1e0-102ca09e9cd5"
      },
      "outputs": [
        {
          "name": "stdout",
          "output_type": "stream",
          "text": [
            "+-----+-----------+---------+---------+------------+----------------+------------+------------------+------+-------------+---+-------------+--------------------+---------------+---------------+-----+------------+---------+----------+------------+--------------------+-----------------+------------------+------------+-----------------+-----------------+--------------+---------+-------------------+-------------------+------------+----+----------+\n",
            "|Month|WeekOfMonth|DayOfWeek|     Make|AccidentArea|DayOfWeekClaimed|MonthClaimed|WeekOfMonthClaimed|   Sex|MaritalStatus|Age|        Fault|          PolicyType|VehicleCategory|   VehiclePrice|Fraud|PolicyNumber|RepNumber|Deductible|DriverRating|Days_Policy_Accident|Days_Policy_Claim|PastNumberOfClaims|AgeOfVehicle|AgeOfPolicyHolder|PoliceReportFiled|WitnessPresent|AgentType|NumberOfSuppliments|AddressChange_Claim|NumberOfCars|Year|BasePolicy|\n",
            "+-----+-----------+---------+---------+------------+----------------+------------+------------------+------+-------------+---+-------------+--------------------+---------------+---------------+-----+------------+---------+----------+------------+--------------------+-----------------+------------------+------------+-----------------+-----------------+--------------+---------+-------------------+-------------------+------------+----+----------+\n",
            "|  Dec|          5|Wednesday|    Honda|       Urban|         Tuesday|         Jan|                 1|Female|       Single| 21|Policy Holder|   Sport - Liability|          Sport|more than 69000|    0|           1|       12|       300|           1|        more than 30|     more than 30|              none|     3 years|         26 to 30|               No|            No| External|               none|             1 year|      3 to 4|1994| Liability|\n",
            "|  Jan|          3|Wednesday|    Honda|       Urban|          Monday|         Jan|                 4|  Male|       Single| 34|Policy Holder|   Sport - Collision|          Sport|more than 69000|    0|           2|       15|       400|           4|        more than 30|     more than 30|              none|     6 years|         31 to 35|              Yes|            No| External|               none|          no change|   1 vehicle|1994| Collision|\n",
            "|  Oct|          5|   Friday|    Honda|       Urban|        Thursday|         Nov|                 2|  Male|      Married| 47|Policy Holder|   Sport - Collision|          Sport|more than 69000|    0|           3|        7|       400|           3|        more than 30|     more than 30|                 1|     7 years|         41 to 50|               No|            No| External|               none|          no change|   1 vehicle|1994| Collision|\n",
            "|  Jun|          2| Saturday|   Toyota|       Rural|          Friday|         Jul|                 1|  Male|      Married| 65|  Third Party|   Sedan - Liability|          Sport| 20000 to 29000|    0|           4|        4|       400|           2|        more than 30|     more than 30|                 1| more than 7|         51 to 65|              Yes|            No| External|        more than 5|          no change|   1 vehicle|1994| Liability|\n",
            "|  Jan|          5|   Monday|    Honda|       Urban|         Tuesday|         Feb|                 2|Female|       Single| 27|  Third Party|   Sport - Collision|          Sport|more than 69000|    0|           5|        3|       400|           1|        more than 30|     more than 30|              none|     5 years|         31 to 35|               No|            No| External|               none|          no change|   1 vehicle|1994| Collision|\n",
            "|  Oct|          4|   Friday|    Honda|       Urban|       Wednesday|         Nov|                 1|  Male|       Single| 20|  Third Party|   Sport - Collision|          Sport|more than 69000|    0|           6|       12|       400|           3|        more than 30|     more than 30|              none|     5 years|         21 to 25|               No|            No| External|             3 to 5|          no change|   1 vehicle|1994| Collision|\n",
            "|  Feb|          1| Saturday|    Honda|       Urban|          Monday|         Feb|                 3|  Male|      Married| 36|  Third Party|   Sport - Collision|          Sport|more than 69000|    0|           7|       14|       400|           1|        more than 30|     more than 30|                 1|     7 years|         36 to 40|               No|            No| External|             1 to 2|          no change|   1 vehicle|1994| Collision|\n",
            "|  Nov|          1|   Friday|    Honda|       Urban|         Tuesday|         Mar|                 4|  Male|       Single|  0|Policy Holder|   Sport - Collision|          Sport|more than 69000|    0|           8|        1|       400|           4|        more than 30|     more than 30|                 1|         new|         16 to 17|               No|            No| External|               none|          no change|   1 vehicle|1994| Collision|\n",
            "|  Dec|          4| Saturday|    Honda|       Urban|       Wednesday|         Dec|                 5|  Male|       Single| 30|Policy Holder|   Sport - Collision|          Sport|more than 69000|    0|           9|        7|       400|           4|        more than 30|     more than 30|              none|     6 years|         31 to 35|               No|           Yes| External|             3 to 5|          no change|   1 vehicle|1994| Collision|\n",
            "|  Apr|          3|  Tuesday|     Ford|       Urban|       Wednesday|         Apr|                 3|  Male|      Married| 42|Policy Holder|Utility - All Perils|        Utility|more than 69000|    0|          10|        7|       400|           1|        more than 30|     more than 30|            2 to 4| more than 7|         36 to 40|               No|            No| External|             3 to 5|          no change|   1 vehicle|1994|All Perils|\n",
            "|  Mar|          2|   Sunday|    Mazda|       Urban|       Wednesday|         Mar|                 3|  Male|       Single| 71|Policy Holder|  Sedan - All Perils|          Sedan|more than 69000|    0|          11|        7|       400|           3|        more than 30|     more than 30|              none| more than 7|          over 65|               No|            No| External|               none|          no change|   1 vehicle|1994|All Perils|\n",
            "|  Mar|          5|   Monday|    Honda|       Urban|          Monday|         Mar|                 5|  Male|      Married| 52|Policy Holder|   Sedan - Liability|          Sport| 20000 to 29000|    0|          12|       13|       400|           1|        more than 30|     more than 30|            2 to 4| more than 7|         41 to 50|               No|            No| External|               none|          no change|   1 vehicle|1994| Liability|\n",
            "|  Jan|          3|   Friday|     Ford|       Urban|          Friday|         Jan|                 3|  Male|      Married| 28|Policy Holder|   Sedan - Liability|          Sport|more than 69000|    0|          13|       11|       400|           1|        more than 30|     more than 30|                 1|     7 years|         31 to 35|               No|            No| External|               none|          no change|   1 vehicle|1994| Liability|\n",
            "|  Jan|          5|   Friday|    Honda|       Rural|       Wednesday|         Feb|                 1|  Male|       Single|  0|  Third Party|   Sedan - Collision|          Sedan|more than 69000|    0|          14|       12|       400|           3|        more than 30|     more than 30|              none|         new|         16 to 17|               No|            No| External|               none|          no change|   1 vehicle|1994| Collision|\n",
            "|  Jan|          5|   Monday|     Ford|       Urban|        Thursday|         Feb|                 1|  Male|      Married| 61|Policy Holder|   Sedan - Liability|          Sport|more than 69000|    0|          15|        3|       400|           1|        more than 30|     more than 30|              none| more than 7|         51 to 65|               No|            No| External|               none|          no change|   1 vehicle|1994| Liability|\n",
            "|  Aug|          4|  Tuesday|     Ford|       Urban|          Monday|         Aug|                 5|  Male|       Single| 38|Policy Holder|   Sedan - Liability|          Sport|more than 69000|    0|          16|       16|       400|           1|        more than 30|     more than 30|              none|     6 years|         36 to 40|               No|            No| External|               none|          no change|   1 vehicle|1994| Liability|\n",
            "|  Apr|          4| Thursday|     Ford|       Urban|       Wednesday|         May|                 1|  Male|      Married| 41|Policy Holder|  Sedan - All Perils|          Sedan|more than 69000|    0|          17|       15|       400|           4|        more than 30|     more than 30|              none|     7 years|         36 to 40|               No|            No| External|               none|          no change|   1 vehicle|1994|All Perils|\n",
            "|  Jul|          5|   Sunday|Chevrolet|       Urban|       Wednesday|         Aug|                 1|Female|      Married| 28|  Third Party|   Sedan - Collision|          Sedan| 20000 to 29000|    0|          18|        6|       400|           1|        more than 30|     more than 30|              none|     7 years|         31 to 35|               No|            No| External|             1 to 2|          no change|   1 vehicle|1994| Collision|\n",
            "|  May|          4| Thursday|  Pontiac|       Urban|          Monday|         May|                 5|  Male|       Single| 32|Policy Holder|   Sedan - Liability|          Sport| 20000 to 29000|    0|          19|        6|       400|           1|        more than 30|     more than 30|                 1|     7 years|         31 to 35|               No|            No| External|               none|          no change|   1 vehicle|1994| Liability|\n",
            "|  Apr|          4|   Monday|    Honda|       Urban|         Tuesday|         May|                 1|  Male|      Married| 30|  Third Party|   Sedan - Liability|          Sport|more than 69000|    0|          20|        2|       400|           2|        more than 30|     more than 30|            2 to 4|     6 years|         31 to 35|               No|            No| External|        more than 5|          no change|   1 vehicle|1994| Liability|\n",
            "+-----+-----------+---------+---------+------------+----------------+------------+------------------+------+-------------+---+-------------+--------------------+---------------+---------------+-----+------------+---------+----------+------------+--------------------+-----------------+------------------+------------+-----------------+-----------------+--------------+---------+-------------------+-------------------+------------+----+----------+\n",
            "only showing top 20 rows\n",
            "\n"
          ]
        }
      ],
      "source": [
        "Data.show()"
      ]
    },
    {
      "cell_type": "code",
      "execution_count": 7,
      "metadata": {
        "colab": {
          "base_uri": "https://localhost:8080/"
        },
        "id": "cSfniPgyb5yS",
        "outputId": "4249d1e5-a6ee-4831-cc93-bfd7c119ac60"
      },
      "outputs": [
        {
          "data": {
            "text/plain": [
              "['Month',\n",
              " 'WeekOfMonth',\n",
              " 'DayOfWeek',\n",
              " 'Make',\n",
              " 'AccidentArea',\n",
              " 'DayOfWeekClaimed',\n",
              " 'MonthClaimed',\n",
              " 'WeekOfMonthClaimed',\n",
              " 'Sex',\n",
              " 'MaritalStatus',\n",
              " 'Age',\n",
              " 'Fault',\n",
              " 'PolicyType',\n",
              " 'VehicleCategory',\n",
              " 'VehiclePrice',\n",
              " 'Fraud',\n",
              " 'PolicyNumber',\n",
              " 'RepNumber',\n",
              " 'Deductible',\n",
              " 'DriverRating',\n",
              " 'Days_Policy_Accident',\n",
              " 'Days_Policy_Claim',\n",
              " 'PastNumberOfClaims',\n",
              " 'AgeOfVehicle',\n",
              " 'AgeOfPolicyHolder',\n",
              " 'PoliceReportFiled',\n",
              " 'WitnessPresent',\n",
              " 'AgentType',\n",
              " 'NumberOfSuppliments',\n",
              " 'AddressChange_Claim',\n",
              " 'NumberOfCars',\n",
              " 'Year',\n",
              " 'BasePolicy']"
            ]
          },
          "execution_count": 7,
          "metadata": {},
          "output_type": "execute_result"
        }
      ],
      "source": [
        "Data.columns"
      ]
    },
    {
      "cell_type": "code",
      "execution_count": 8,
      "metadata": {
        "colab": {
          "base_uri": "https://localhost:8080/"
        },
        "id": "5c1KkL58aIxO",
        "outputId": "25acb86d-b804-4319-ba69-cf5e3e0dd1c9"
      },
      "outputs": [
        {
          "data": {
            "text/plain": [
              "[('Month', 'string'),\n",
              " ('WeekOfMonth', 'int'),\n",
              " ('DayOfWeek', 'string'),\n",
              " ('Make', 'string'),\n",
              " ('AccidentArea', 'string'),\n",
              " ('DayOfWeekClaimed', 'string'),\n",
              " ('MonthClaimed', 'string'),\n",
              " ('WeekOfMonthClaimed', 'int'),\n",
              " ('Sex', 'string'),\n",
              " ('MaritalStatus', 'string'),\n",
              " ('Age', 'int'),\n",
              " ('Fault', 'string'),\n",
              " ('PolicyType', 'string'),\n",
              " ('VehicleCategory', 'string'),\n",
              " ('VehiclePrice', 'string'),\n",
              " ('Fraud', 'int'),\n",
              " ('PolicyNumber', 'int'),\n",
              " ('RepNumber', 'int'),\n",
              " ('Deductible', 'int'),\n",
              " ('DriverRating', 'int'),\n",
              " ('Days_Policy_Accident', 'string'),\n",
              " ('Days_Policy_Claim', 'string'),\n",
              " ('PastNumberOfClaims', 'string'),\n",
              " ('AgeOfVehicle', 'string'),\n",
              " ('AgeOfPolicyHolder', 'string'),\n",
              " ('PoliceReportFiled', 'string'),\n",
              " ('WitnessPresent', 'string'),\n",
              " ('AgentType', 'string'),\n",
              " ('NumberOfSuppliments', 'string'),\n",
              " ('AddressChange_Claim', 'string'),\n",
              " ('NumberOfCars', 'string'),\n",
              " ('Year', 'int'),\n",
              " ('BasePolicy', 'string')]"
            ]
          },
          "execution_count": 8,
          "metadata": {},
          "output_type": "execute_result"
        }
      ],
      "source": [
        "Data.dtypes"
      ]
    },
    {
      "cell_type": "code",
      "execution_count": 9,
      "metadata": {
        "colab": {
          "base_uri": "https://localhost:8080/"
        },
        "id": "vamTpwPmbYNM",
        "outputId": "ac7136c0-1830-4f61-9686-5e00e80e9f2e"
      },
      "outputs": [
        {
          "name": "stdout",
          "output_type": "stream",
          "text": [
            "+-------+-----+------------------+---------+------+------------+----------------+------------+------------------+------+-------------+------------------+-------------+-------------------+---------------+---------------+-------------------+-----------------+-----------------+------------------+------------------+--------------------+-----------------+------------------+------------+-----------------+-----------------+--------------+---------+-------------------+-------------------+------------+------------------+----------+\n",
            "|summary|Month|       WeekOfMonth|DayOfWeek|  Make|AccidentArea|DayOfWeekClaimed|MonthClaimed|WeekOfMonthClaimed|   Sex|MaritalStatus|               Age|        Fault|         PolicyType|VehicleCategory|   VehiclePrice|              Fraud|     PolicyNumber|        RepNumber|        Deductible|      DriverRating|Days_Policy_Accident|Days_Policy_Claim|PastNumberOfClaims|AgeOfVehicle|AgeOfPolicyHolder|PoliceReportFiled|WitnessPresent|AgentType|NumberOfSuppliments|AddressChange_Claim|NumberOfCars|              Year|BasePolicy|\n",
            "+-------+-----+------------------+---------+------+------------+----------------+------------+------------------+------+-------------+------------------+-------------+-------------------+---------------+---------------+-------------------+-----------------+-----------------+------------------+------------------+--------------------+-----------------+------------------+------------+-----------------+-----------------+--------------+---------+-------------------+-------------------+------------+------------------+----------+\n",
            "|  count|15420|             15420|    15420| 15420|       15420|           15420|       15420|             15420| 15420|        15420|             15420|        15420|              15420|          15420|          15420|              15420|            15420|            15420|             15420|             15420|               15420|            15420|             15420|       15420|            15420|            15420|         15420|    15420|              15420|              15420|       15420|             15420|     15420|\n",
            "|   mean| NULL| 2.788586251621271|     NULL|  NULL|        NULL|             0.0|         0.0| 2.693968871595331|  NULL|         NULL|39.855706874189366|         NULL|               NULL|           NULL|           NULL|0.05985732814526589|           7710.5|8.483268482490272|407.70428015564204|2.4878080415045396|                NULL|             NULL|               1.0|        NULL|             NULL|             NULL|          NULL|     NULL|               NULL|               NULL|        NULL|1994.8664721141374|      NULL|\n",
            "| stddev| NULL|1.2875853655947782|     NULL|  NULL|        NULL|            NULL|        NULL| 1.259115259662054|  NULL|         NULL|13.492376653415855|         NULL|               NULL|           NULL|           NULL|0.23723001094588786|4451.514910679285|4.599948138709525| 43.95099795219918|1.1194530663530393|                NULL|             NULL|               0.0|        NULL|             NULL|             NULL|          NULL|     NULL|               NULL|               NULL|        NULL|0.8033131537717738|      NULL|\n",
            "|    min|  Apr|                 1|   Friday|Accura|       Rural|               0|           0|                 1|Female|     Divorced|                 0|Policy Holder| Sedan - All Perils|          Sedan| 20000 to 29000|                  0|                1|                1|               300|                 1|              1 to 7|         15 to 30|                 1|     2 years|         16 to 17|               No|            No| External|             1 to 2|             1 year|   1 vehicle|              1994|All Perils|\n",
            "|    max|  Sep|                 5|Wednesday|    VW|       Urban|       Wednesday|         Sep|                 5|  Male|        Widow|                80|  Third Party|Utility - Liability|        Utility|more than 69000|                  1|            15420|               16|               700|                 4|                none|             none|              none|         new|          over 65|              Yes|           Yes| Internal|               none|     under 6 months| more than 8|              1996| Liability|\n",
            "+-------+-----+------------------+---------+------+------------+----------------+------------+------------------+------+-------------+------------------+-------------+-------------------+---------------+---------------+-------------------+-----------------+-----------------+------------------+------------------+--------------------+-----------------+------------------+------------+-----------------+-----------------+--------------+---------+-------------------+-------------------+------------+------------------+----------+\n",
            "\n"
          ]
        }
      ],
      "source": [
        "Data.describe().show()"
      ]
    },
    {
      "cell_type": "code",
      "execution_count": 10,
      "metadata": {
        "colab": {
          "base_uri": "https://localhost:8080/"
        },
        "id": "82IPP_rGnh5s",
        "outputId": "ae5667ba-824d-47f2-f1ce-cfea8e75ee1a"
      },
      "outputs": [
        {
          "name": "stdout",
          "output_type": "stream",
          "text": [
            "+------+-------------+-----+\n",
            "|   Sex|MaritalStatus|count|\n",
            "+------+-------------+-----+\n",
            "|  Male|       Single| 3653|\n",
            "|  Male|     Divorced|   36|\n",
            "|Female|        Widow|   24|\n",
            "|  Male|        Widow|   11|\n",
            "|Female|       Single| 1031|\n",
            "|Female|     Divorced|   40|\n",
            "|  Male|      Married| 9300|\n",
            "|Female|      Married| 1325|\n",
            "+------+-------------+-----+\n",
            "\n"
          ]
        }
      ],
      "source": [
        "Data.groupBy([\"Sex\",\"MaritalStatus\"]).count().show()"
      ]
    },
    {
      "cell_type": "code",
      "execution_count": 11,
      "metadata": {
        "colab": {
          "base_uri": "https://localhost:8080/"
        },
        "id": "A2MRT1kzoZ9v",
        "outputId": "2be80165-a50d-4ae2-a591-c4ab738982c7"
      },
      "outputs": [
        {
          "name": "stdout",
          "output_type": "stream",
          "text": [
            "+----+-------------+-----+\n",
            "|Year|        Fault|count|\n",
            "+----+-------------+-----+\n",
            "|1995|  Third Party| 1420|\n",
            "|1994|Policy Holder| 4508|\n",
            "|1996|Policy Holder| 2947|\n",
            "|1996|  Third Party| 1136|\n",
            "|1994|  Third Party| 1634|\n",
            "|1995|Policy Holder| 3775|\n",
            "+----+-------------+-----+\n",
            "\n"
          ]
        }
      ],
      "source": [
        "Data.groupBy([\"Year\",\"Fault\"]).count().show()"
      ]
    },
    {
      "cell_type": "code",
      "execution_count": 12,
      "metadata": {
        "colab": {
          "base_uri": "https://localhost:8080/"
        },
        "id": "nAEOvpiyE5Po",
        "outputId": "ee046224-5abc-4163-cce7-ab1b17c91f06"
      },
      "outputs": [
        {
          "name": "stdout",
          "output_type": "stream",
          "text": [
            "+-----+-----------+---------+---------+------------+----------------+------------+------------------+------+-------------+---+-------------+------------------+---------------+---------------+-----+------------+---------+----------+------------+--------------------+-----------------+------------------+------------+-----------------+-----------------+--------------+---------+-------------------+-------------------+------------+----+----------+\n",
            "|Month|WeekOfMonth|DayOfWeek|     Make|AccidentArea|DayOfWeekClaimed|MonthClaimed|WeekOfMonthClaimed|   Sex|MaritalStatus|Age|        Fault|        PolicyType|VehicleCategory|   VehiclePrice|Fraud|PolicyNumber|RepNumber|Deductible|DriverRating|Days_Policy_Accident|Days_Policy_Claim|PastNumberOfClaims|AgeOfVehicle|AgeOfPolicyHolder|PoliceReportFiled|WitnessPresent|AgentType|NumberOfSuppliments|AddressChange_Claim|NumberOfCars|Year|BasePolicy|\n",
            "+-----+-----------+---------+---------+------------+----------------+------------+------------------+------+-------------+---+-------------+------------------+---------------+---------------+-----+------------+---------+----------+------------+--------------------+-----------------+------------------+------------+-----------------+-----------------+--------------+---------+-------------------+-------------------+------------+----+----------+\n",
            "|  Sep|          1| Saturday|    Mazda|       Rural|          Monday|         Sep|                 3|  Male|      Married| 47|Policy Holder| Sedan - Liability|          Sport| 20000 to 29000|    0|        1569|        9|       400|           4|        more than 30|     more than 30|            2 to 4|     6 years|         41 to 50|              Yes|           Yes| External|        more than 5|          no change|   1 vehicle|1994| Liability|\n",
            "|  Feb|          4| Saturday|  Pontiac|       Urban|          Monday|         Feb|                 5|  Male|       Single| 22|Policy Holder| Sedan - Collision|          Sedan| 30000 to 39000|    1|        1588|       13|       400|           3|        more than 30|     more than 30|                 1|     5 years|         26 to 30|              Yes|           Yes| External|             1 to 2|          no change|   1 vehicle|1994| Collision|\n",
            "|  Sep|          4|   Sunday|    Mazda|       Rural|          Monday|         Sep|                 4|  Male|       Single| 40|  Third Party| Sedan - Collision|          Sedan| 20000 to 29000|    0|        1984|       14|       400|           2|        more than 30|     more than 30|                 1|     7 years|         36 to 40|              Yes|           Yes| External|        more than 5|          no change|   1 vehicle|1994| Collision|\n",
            "|  Mar|          4|   Monday|   Toyota|       Urban|         Tuesday|         Mar|                 5|  Male|      Married| 43|Policy Holder| Sedan - Collision|          Sedan| 20000 to 29000|    0|        2380|        3|       400|           3|        more than 30|     more than 30|              none|     7 years|         36 to 40|              Yes|           Yes| External|             3 to 5|          no change|   1 vehicle|1994| Collision|\n",
            "|  Aug|          1| Saturday|  Pontiac|       Rural|          Monday|         Aug|                 2|Female|       Single| 34|  Third Party|Sedan - All Perils|          Sedan|more than 69000|    0|        2553|       16|       400|           3|        more than 30|     more than 30|                 1|     6 years|         31 to 35|              Yes|           Yes| External|               none|          no change|   1 vehicle|1994|All Perils|\n",
            "|  Apr|          2|   Sunday|  Pontiac|       Urban|       Wednesday|         Apr|                 2|  Male|       Single| 26|  Third Party|Sedan - All Perils|          Sedan| 20000 to 29000|    0|        2737|       16|       400|           1|        more than 30|     more than 30|              none|     7 years|         31 to 35|              Yes|           Yes| External|             3 to 5|          no change|   1 vehicle|1994|All Perils|\n",
            "|  Mar|          5| Thursday|    Mazda|       Urban|          Monday|         Apr|                 1|Female|      Married| 46|  Third Party| Sedan - Liability|          Sport| 20000 to 29000|    0|        2749|        5|       400|           3|        more than 30|     more than 30|            2 to 4|     7 years|         41 to 50|              Yes|           Yes| Internal|               none|          no change|   1 vehicle|1994| Liability|\n",
            "|  Dec|          4|   Friday|Chevrolet|       Urban|         Tuesday|         Dec|                 4|  Male|      Married| 60|Policy Holder|Sedan - All Perils|          Sedan| 30000 to 39000|    0|        3112|       13|       500|           4|        more than 30|     more than 30|                 1| more than 7|         51 to 65|              Yes|           Yes| External|               none|          no change|   1 vehicle|1994|All Perils|\n",
            "|  Jan|          4| Saturday|  Pontiac|       Urban|          Monday|         Jan|                 4|Female|       Single| 22|  Third Party| Sedan - Collision|          Sedan| 20000 to 29000|    0|        3440|        1|       400|           1|        more than 30|     more than 30|       more than 4|     5 years|         26 to 30|              Yes|           Yes| External|             1 to 2|          no change|   1 vehicle|1994| Collision|\n",
            "|  Jun|          2|   Sunday|   Toyota|       Urban|          Monday|         Jun|                 2|  Male|      Married| 27|  Third Party|Sedan - All Perils|          Sedan| 20000 to 29000|    0|        3839|       11|       400|           2|        more than 30|     more than 30|              none|     5 years|         31 to 35|              Yes|           Yes| External|               none|          no change|   1 vehicle|1994|All Perils|\n",
            "|  Jun|          4|   Friday|   Toyota|       Urban|          Monday|         Jun|                 4|  Male|       Single| 32|  Third Party| Sedan - Collision|          Sedan| 20000 to 29000|    0|        4014|       12|       400|           2|        more than 30|     more than 30|                 1|     7 years|         31 to 35|              Yes|           Yes| External|             3 to 5|          no change|   1 vehicle|1994| Collision|\n",
            "|  Jul|          2|   Monday|   Toyota|       Urban|       Wednesday|         Jul|                 2|Female|      Married| 28|  Third Party| Sedan - Collision|          Sedan| 20000 to 29000|    0|        4848|        9|       400|           2|        more than 30|     more than 30|       more than 4|     7 years|         31 to 35|              Yes|           Yes| External|             1 to 2|          no change|   1 vehicle|1994| Collision|\n",
            "|  Jan|          4|  Tuesday|  Pontiac|       Urban|       Wednesday|         Jan|                 4|  Male|      Married| 32|Policy Holder|Sedan - All Perils|          Sedan| 20000 to 29000|    0|        5076|       12|       400|           4|        more than 30|     more than 30|            2 to 4|     7 years|         31 to 35|              Yes|           Yes| External|        more than 5|          no change|   1 vehicle|1994|All Perils|\n",
            "|  Mar|          3|   Sunday|  Pontiac|       Urban|       Wednesday|         Mar|                 4|  Male|      Married| 42|Policy Holder|Sedan - All Perils|          Sedan|less than 20000|    0|        5199|       10|       400|           4|        more than 30|     more than 30|                 1|     7 years|         36 to 40|              Yes|           Yes| External|               none|          no change|   1 vehicle|1994|All Perils|\n",
            "|  May|          4|   Monday|   Toyota|       Urban|       Wednesday|         May|                 4|  Male|      Married| 43|  Third Party| Sedan - Collision|          Sedan| 20000 to 29000|    0|        5721|        8|       400|           4|        more than 30|     more than 30|                 1|     6 years|         36 to 40|              Yes|           Yes| External|               none|          no change|   1 vehicle|1994| Collision|\n",
            "|  Dec|          1|   Friday|    Honda|       Urban|        Thursday|         Dec|                 2|  Male|      Married| 35|  Third Party| Sedan - Collision|          Sedan| 30000 to 39000|    0|        5738|        6|       400|           3|        more than 30|     more than 30|            2 to 4|     6 years|         31 to 35|              Yes|           Yes| External|        more than 5|          no change|   1 vehicle|1994| Collision|\n",
            "|  Mar|          5|  Tuesday|  Pontiac|       Urban|         Tuesday|         Apr|                 2|  Male|      Married| 43|  Third Party|Sedan - All Perils|          Sedan| 20000 to 29000|    0|        6239|        9|       400|           1|        more than 30|     more than 30|            2 to 4| more than 7|         36 to 40|              Yes|           Yes| External|        more than 5|          no change|   1 vehicle|1995|All Perils|\n",
            "|  Nov|          3| Saturday|  Pontiac|       Urban|        Thursday|         Dec|                 1|  Male|      Married| 52|Policy Holder|Sedan - All Perils|          Sedan| 20000 to 29000|    0|        6271|       15|       400|           4|        more than 30|     more than 30|              none|     7 years|         41 to 50|              Yes|           Yes| External|        more than 5|          no change|   1 vehicle|1995|All Perils|\n",
            "|  Nov|          3| Thursday|    Honda|       Rural|          Friday|         Nov|                 3|  Male|       Single| 22|  Third Party| Sedan - Liability|          Sport| 20000 to 29000|    0|        6532|       11|       400|           3|        more than 30|     more than 30|            2 to 4|     5 years|         26 to 30|              Yes|           Yes| External|               none|       4 to 8 years|  2 vehicles|1995| Liability|\n",
            "|  Oct|          3|  Tuesday|  Pontiac|       Urban|         Tuesday|         Oct|                 4|Female|       Single| 52|  Third Party| Sedan - Collision|          Sedan| 20000 to 29000|    0|        7164|        3|       400|           3|        more than 30|     more than 30|              none| more than 7|         41 to 50|              Yes|           Yes| External|        more than 5|          no change|   1 vehicle|1995| Collision|\n",
            "+-----+-----------+---------+---------+------------+----------------+------------+------------------+------+-------------+---+-------------+------------------+---------------+---------------+-----+------------+---------+----------+------------+--------------------+-----------------+------------------+------------+-----------------+-----------------+--------------+---------+-------------------+-------------------+------------+----+----------+\n",
            "only showing top 20 rows\n",
            "\n"
          ]
        }
      ],
      "source": [
        "\n",
        "Data.filter((Data.WitnessPresent==\"Yes\") & (Data.PoliceReportFiled==\"Yes\")).show()"
      ]
    },
    {
      "cell_type": "code",
      "execution_count": 13,
      "metadata": {
        "colab": {
          "base_uri": "https://localhost:8080/"
        },
        "id": "DJh5XPt2Qxw5",
        "outputId": "bc95eb22-3885-46ba-83fe-3b624155e6a7"
      },
      "outputs": [
        {
          "name": "stdout",
          "output_type": "stream",
          "text": [
            "+------------+---------------+-----------+\n",
            "|AccidentArea|VehicleCategory|mode(Month)|\n",
            "+------------+---------------+-----------+\n",
            "|       Rural|          Sedan|        Mar|\n",
            "|       Urban|          Sport|        Jan|\n",
            "|       Rural|        Utility|        Oct|\n",
            "|       Urban|        Utility|        Dec|\n",
            "|       Urban|          Sedan|        Jan|\n",
            "|       Rural|          Sport|        Jun|\n",
            "+------------+---------------+-----------+\n",
            "\n"
          ]
        }
      ],
      "source": [
        "Data.groupBy([\"AccidentArea\",\"VehicleCategory\"]).agg(F.mode(\"Month\")).show()"
      ]
    },
    {
      "cell_type": "code",
      "execution_count": 14,
      "metadata": {
        "colab": {
          "base_uri": "https://localhost:8080/"
        },
        "id": "vynckIMjd5x3",
        "outputId": "39bd8019-a05a-4e3c-813b-0b7271cea10d"
      },
      "outputs": [
        {
          "name": "stdout",
          "output_type": "stream",
          "text": [
            "+------+---------------+------------------+\n",
            "|   Sex|VehicleCategory|          avg(Age)|\n",
            "+------+---------------+------------------+\n",
            "|Female|        Utility|              39.0|\n",
            "|Female|          Sedan| 37.35429769392034|\n",
            "|Female|          Sport| 37.87955465587044|\n",
            "|  Male|          Sedan|40.425606796116504|\n",
            "|  Male|          Sport|39.583981693363846|\n",
            "|  Male|        Utility| 45.04615384615385|\n",
            "+------+---------------+------------------+\n",
            "\n"
          ]
        }
      ],
      "source": [
        "Data.groupBy([\"Sex\",\"VehicleCategory\"]).agg(F.mean(\"Age\")).sort(\"Sex\").show()"
      ]
    },
    {
      "cell_type": "code",
      "execution_count": 15,
      "metadata": {
        "colab": {
          "base_uri": "https://localhost:8080/"
        },
        "id": "na1JVdk3cqa8",
        "outputId": "41150dda-7835-4d5a-dac3-b2fd4cd9d32b"
      },
      "outputs": [
        {
          "name": "stdout",
          "output_type": "stream",
          "text": [
            "+------+----------+--------+--------+\n",
            "|   Sex|BasePolicy|min(Age)|max(Age)|\n",
            "+------+----------+--------+--------+\n",
            "|  Male| Liability|       0|      80|\n",
            "|  Male| Collision|       0|      80|\n",
            "|Female| Liability|      18|      80|\n",
            "|Female|All Perils|      18|      80|\n",
            "|Female| Collision|      16|      80|\n",
            "|  Male|All Perils|       0|      80|\n",
            "+------+----------+--------+--------+\n",
            "\n"
          ]
        }
      ],
      "source": [
        "Data.groupBy([\"Sex\",\"BasePolicy\"]).agg(F.min(\"Age\"),F.max(\"Age\")).show()"
      ]
    },
    {
      "cell_type": "code",
      "execution_count": 16,
      "metadata": {
        "colab": {
          "base_uri": "https://localhost:8080/"
        },
        "id": "56iXJKT5fbI5",
        "outputId": "98318f8b-7675-4f1e-f99c-e1b12ebae5d2"
      },
      "outputs": [
        {
          "name": "stdout",
          "output_type": "stream",
          "text": [
            "+-------+---------------+------------------+\n",
            "|   Make|VehicleCategory|          avg(Age)|\n",
            "+-------+---------------+------------------+\n",
            "|Mercury|        Utility|              49.0|\n",
            "|  Honda|        Utility|               0.0|\n",
            "|     VW|          Sport|44.347457627118644|\n",
            "| Toyota|        Utility|              33.0|\n",
            "| Jaguar|          Sport|33.333333333333336|\n",
            "|     VW|        Utility|              72.0|\n",
            "| Toyota|          Sedan| 40.72346368715084|\n",
            "|  Honda|          Sport| 33.98199672667758|\n",
            "| Porche|        Utility|              60.0|\n",
            "| Jaguar|          Sedan|35.666666666666664|\n",
            "|   Ford|        Utility|45.388888888888886|\n",
            "|  Dodge|          Sedan| 38.11940298507463|\n",
            "|   Ford|          Sport| 45.48091603053435|\n",
            "|Mercury|          Sedan|42.310344827586206|\n",
            "| Nisson|          Sport|              35.5|\n",
            "|  Mazda|          Sedan| 38.97832369942196|\n",
            "|Mecedes|          Sedan|              47.5|\n",
            "| Nisson|          Sedan| 41.44444444444444|\n",
            "|Ferrari|        Utility|              39.5|\n",
            "|   Ford|          Sedan| 45.06713780918728|\n",
            "+-------+---------------+------------------+\n",
            "only showing top 20 rows\n",
            "\n"
          ]
        }
      ],
      "source": [
        "Data.groupBy([\"Make\",\"VehicleCategory\"]).agg(F.mean('Age')).show()"
      ]
    },
    {
      "cell_type": "markdown",
      "metadata": {
        "id": "qtGz7Ru5WPWR"
      },
      "source": []
    },
    {
      "cell_type": "markdown",
      "metadata": {
        "id": "PLi4kChDWTuE"
      },
      "source": [
        "**Insurance claimed in before 2000 with police report**"
      ]
    },
    {
      "cell_type": "code",
      "execution_count": 17,
      "metadata": {
        "colab": {
          "base_uri": "https://localhost:8080/"
        },
        "id": "Osw-NTPuWO70",
        "outputId": "5c41dd9d-cd25-493b-bda2-0fdd5c061f78"
      },
      "outputs": [
        {
          "name": "stdout",
          "output_type": "stream",
          "text": [
            "+-----+-----------+---------+-------+------------+----------------+------------+------------------+------+-------------+---+-------------+--------------------+---------------+---------------+-----+------------+---------+----------+------------+--------------------+-----------------+------------------+------------+-----------------+-----------------+--------------+---------+-------------------+-------------------+------------+----+----------+\n",
            "|Month|WeekOfMonth|DayOfWeek|   Make|AccidentArea|DayOfWeekClaimed|MonthClaimed|WeekOfMonthClaimed|   Sex|MaritalStatus|Age|        Fault|          PolicyType|VehicleCategory|   VehiclePrice|Fraud|PolicyNumber|RepNumber|Deductible|DriverRating|Days_Policy_Accident|Days_Policy_Claim|PastNumberOfClaims|AgeOfVehicle|AgeOfPolicyHolder|PoliceReportFiled|WitnessPresent|AgentType|NumberOfSuppliments|AddressChange_Claim|NumberOfCars|Year|BasePolicy|\n",
            "+-----+-----------+---------+-------+------------+----------------+------------+------------------+------+-------------+---+-------------+--------------------+---------------+---------------+-----+------------+---------+----------+------------+--------------------+-----------------+------------------+------------+-----------------+-----------------+--------------+---------+-------------------+-------------------+------------+----+----------+\n",
            "|  Jan|          3|Wednesday|  Honda|       Urban|          Monday|         Jan|                 4|  Male|       Single| 34|Policy Holder|   Sport - Collision|          Sport|more than 69000|    0|           2|       15|       400|           4|        more than 30|     more than 30|              none|     6 years|         31 to 35|              Yes|            No| External|               none|          no change|   1 vehicle|1994| Collision|\n",
            "|  Jun|          2| Saturday| Toyota|       Rural|          Friday|         Jul|                 1|  Male|      Married| 65|  Third Party|   Sedan - Liability|          Sport| 20000 to 29000|    0|           4|        4|       400|           2|        more than 30|     more than 30|                 1| more than 7|         51 to 65|              Yes|            No| External|        more than 5|          no change|   1 vehicle|1994| Liability|\n",
            "|  Sep|          3|   Friday|  Mazda|       Urban|          Friday|         Sep|                 3|  Male|      Married| 45|Policy Holder|  Sedan - All Perils|          Sedan|more than 69000|    0|          25|       12|       400|           3|        more than 30|     more than 30|       more than 4| more than 7|         36 to 40|              Yes|            No| External|               none|          no change|   1 vehicle|1994|All Perils|\n",
            "|  Jan|          4|   Friday|   Ford|       Urban|          Monday|         Feb|                 1|Female|      Married| 37|Policy Holder|  Sedan - All Perils|          Sedan|more than 69000|    0|         103|       14|       500|           2|        more than 30|     more than 30|            2 to 4|     6 years|         36 to 40|              Yes|            No| External|             3 to 5|          no change|   1 vehicle|1994|All Perils|\n",
            "|  Jan|          4| Saturday|  Dodge|       Urban|          Monday|         Mar|                 1|  Male|      Married| 53|Policy Holder|   Sedan - Collision|          Sedan| 30000 to 39000|    0|         127|       15|       400|           2|        more than 30|     more than 30|              none| more than 7|         41 to 50|              Yes|            No| External|               none|       4 to 8 years|  2 vehicles|1994| Collision|\n",
            "|  Jun|          1|   Friday| Toyota|       Urban|         Tuesday|         Jun|                 3|  Male|      Married| 61|Policy Holder|   Sedan - Collision|          Sedan| 20000 to 29000|    0|         217|        9|       400|           2|            15 to 30|     more than 30|              none| more than 7|         51 to 65|              Yes|            No| External|               none|          no change|   1 vehicle|1994| Collision|\n",
            "|  Nov|          3| Thursday|Pontiac|       Urban|          Monday|         Nov|                 5|  Male|      Married| 28|Policy Holder|   Sedan - Collision|          Sedan| 20000 to 29000|    0|         408|       15|       400|           2|        more than 30|     more than 30|       more than 4|     6 years|         31 to 35|              Yes|            No| External|               none|          no change|   1 vehicle|1994| Collision|\n",
            "|  Dec|          2| Thursday| Toyota|       Urban|          Friday|         Dec|                 2|  Male|      Married| 51|  Third Party|   Sedan - Collision|          Sedan|less than 20000|    0|         427|       13|       400|           3|        more than 30|     more than 30|                 1| more than 7|         41 to 50|              Yes|            No| External|        more than 5|          no change|   1 vehicle|1994| Collision|\n",
            "|  May|          2|   Monday| Toyota|       Urban|         Tuesday|         Nov|                 2|  Male|      Married| 55|Policy Holder|   Sedan - Collision|          Sedan| 20000 to 29000|    0|         493|        2|       400|           2|        more than 30|     more than 30|            2 to 4|     7 years|         41 to 50|              Yes|            No| External|        more than 5|          no change|   1 vehicle|1994| Collision|\n",
            "|  Aug|          5|   Monday| Toyota|       Urban|       Wednesday|         Aug|                 5|Female|      Married| 40|  Third Party|   Sedan - Collision|          Sedan|more than 69000|    0|         639|       11|       400|           3|        more than 30|     more than 30|                 1|     6 years|         36 to 40|              Yes|            No| External|             1 to 2|          no change|   1 vehicle|1994| Collision|\n",
            "|  Jun|          3|  Tuesday|Pontiac|       Urban|          Monday|         Jul|                 3|  Male|      Married| 76|  Third Party|   Sedan - Liability|          Sport| 20000 to 29000|    0|         641|        4|       400|           4|        more than 30|     more than 30|              none| more than 7|          over 65|              Yes|            No| External|               none|          no change|   1 vehicle|1994| Liability|\n",
            "|  Oct|          5|   Friday|Pontiac|       Urban|          Monday|         Oct|                 5|  Male|      Married| 55|  Third Party|Utility - All Perils|        Utility|more than 69000|    0|         687|        3|       400|           4|        more than 30|     more than 30|            2 to 4| more than 7|         41 to 50|              Yes|            No| External|             1 to 2|          no change|   1 vehicle|1994|All Perils|\n",
            "|  Oct|          4|Wednesday| Toyota|       Urban|         Tuesday|         Nov|                 2|  Male|       Single| 31|  Third Party|   Sedan - Liability|          Sport| 20000 to 29000|    0|         753|        9|       400|           4|        more than 30|     more than 30|              none|     6 years|         31 to 35|              Yes|            No| External|               none|          no change|   1 vehicle|1994| Liability|\n",
            "|  Jan|          4|   Monday|  Mazda|       Urban|          Monday|         Feb|                 4|  Male|      Married| 43|Policy Holder|   Sedan - Collision|          Sedan| 20000 to 29000|    1|         814|        3|       400|           1|        more than 30|     more than 30|            2 to 4|     7 years|         36 to 40|              Yes|            No| External|               none|          no change|   1 vehicle|1994| Collision|\n",
            "|  Jul|          4|   Monday| Toyota|       Urban|       Wednesday|         Jul|                 4|Female|       Single| 31|Policy Holder|   Sedan - Liability|          Sport| 20000 to 29000|    0|         886|       10|       400|           3|        more than 30|     more than 30|            2 to 4|     7 years|         31 to 35|              Yes|            No| External|             1 to 2|          no change|   1 vehicle|1994| Liability|\n",
            "|  Nov|          4|   Friday|  Mazda|       Urban|        Thursday|         Nov|                 5|  Male|       Single| 45|Policy Holder|   Sedan - Collision|          Sedan| 20000 to 29000|    0|        1103|        2|       400|           3|        more than 30|     more than 30|            2 to 4|     6 years|         36 to 40|              Yes|            No| External|             1 to 2|          no change|   1 vehicle|1994| Collision|\n",
            "|  Apr|          2|Wednesday|Pontiac|       Urban|          Monday|         Apr|                 4|  Male|      Married| 40|Policy Holder|   Sedan - Collision|          Sedan| 20000 to 29000|    0|        1126|        1|       400|           3|        more than 30|     more than 30|            2 to 4| more than 7|         36 to 40|              Yes|            No| External|        more than 5|          no change|   1 vehicle|1994| Collision|\n",
            "|  Dec|          2|   Monday|  Mazda|       Urban|         Tuesday|         Dec|                 2|  Male|      Married| 37|  Third Party|  Sedan - All Perils|          Sedan| 20000 to 29000|    0|        1128|        6|       400|           1|        more than 30|     more than 30|                 1|     7 years|         36 to 40|              Yes|            No| External|               none|          no change|   1 vehicle|1994|All Perils|\n",
            "|  Mar|          5|  Tuesday|  Dodge|       Urban|         Tuesday|         Apr|                 2|  Male|      Married| 36|Policy Holder|   Sedan - Liability|          Sport| 30000 to 39000|    0|        1210|        2|       700|           2|        more than 30|     more than 30|       more than 4|     7 years|         36 to 40|              Yes|            No| External|        more than 5|          no change|   1 vehicle|1994| Liability|\n",
            "|  Dec|          2|Wednesday|Pontiac|       Urban|          Friday|         Dec|                 3|Female|       Single| 27|  Third Party|   Sedan - Collision|          Sedan| 20000 to 29000|    0|        1270|        5|       400|           4|        more than 30|     more than 30|              none|     6 years|         31 to 35|              Yes|            No| External|             1 to 2|          no change|   1 vehicle|1994| Collision|\n",
            "+-----+-----------+---------+-------+------------+----------------+------------+------------------+------+-------------+---+-------------+--------------------+---------------+---------------+-----+------------+---------+----------+------------+--------------------+-----------------+------------------+------------+-----------------+-----------------+--------------+---------+-------------------+-------------------+------------+----+----------+\n",
            "only showing top 20 rows\n",
            "\n"
          ]
        }
      ],
      "source": [
        "Data.filter(Data.PoliceReportFiled==\"Yes\").show()"
      ]
    },
    {
      "cell_type": "markdown",
      "metadata": {
        "id": "8bXqUkPdUk3a"
      },
      "source": [
        "**How many honda present in vehicle category?**"
      ]
    },
    {
      "cell_type": "code",
      "execution_count": 18,
      "metadata": {
        "colab": {
          "base_uri": "https://localhost:8080/"
        },
        "id": "dbZ9mLi-rE07",
        "outputId": "70c8be5b-e051-4c16-d6ba-4072dcf6864d"
      },
      "outputs": [
        {
          "name": "stdout",
          "output_type": "stream",
          "text": [
            "+---------------+-----+\n",
            "|VehicleCategory|count|\n",
            "+---------------+-----+\n",
            "|          Sedan| 1570|\n",
            "|        Utility|    9|\n",
            "|          Sport| 1222|\n",
            "+---------------+-----+\n",
            "\n"
          ]
        }
      ],
      "source": [
        "Data.filter(Data[\"Make\"]==\"Honda\").groupBy(\"VehicleCategory\").count().show()"
      ]
    },
    {
      "cell_type": "markdown",
      "metadata": {
        "id": "hwewUE0RUR-m"
      },
      "source": [
        "**How much fraud happened in each years which are done by females?**"
      ]
    },
    {
      "cell_type": "code",
      "execution_count": 19,
      "metadata": {
        "colab": {
          "base_uri": "https://localhost:8080/"
        },
        "id": "zbByv_hzT4Sl",
        "outputId": "c75ba352-3330-46bc-9487-a8c7d97e46a5"
      },
      "outputs": [
        {
          "name": "stdout",
          "output_type": "stream",
          "text": [
            "+----+-----+\n",
            "|Year|count|\n",
            "+----+-----+\n",
            "|1994|   40|\n",
            "|1996|   26|\n",
            "|1995|   39|\n",
            "+----+-----+\n",
            "\n"
          ]
        }
      ],
      "source": [
        "Data.filter((Data[\"Fraud\"]==1) & (Data[\"Sex\"]==\"Female\")).groupBy(\"Year\").count().show()"
      ]
    },
    {
      "cell_type": "markdown",
      "metadata": {
        "id": "5f9CSB9mxAZz"
      },
      "source": [
        "# VISUALIZATION"
      ]
    },
    {
      "cell_type": "code",
      "execution_count": 20,
      "metadata": {
        "colab": {
          "base_uri": "https://localhost:8080/",
          "height": 449
        },
        "id": "gbac-ZmRUOVZ",
        "outputId": "615de0d6-3e6b-4ab0-8742-2cc15aada17f"
      },
      "outputs": [
        {
          "data": {
            "image/png": "[encoded data removed]",
            "text/plain": [
              "<Figure size 640x480 with 1 Axes>"
            ]
          },
          "metadata": {},
          "output_type": "display_data"
        }
      ],
      "source": [
        "df=Data.toPandas()\n",
        "sns.color_palette()\n",
        "sns.countplot(x=df[\"Fraud\"],hue=\"Sex\",palette=\"hot_r\",data=df)\n",
        "plt.show()"
      ]
    },
    {
      "cell_type": "markdown",
      "metadata": {
        "id": "2tJbJeE6w_e_"
      },
      "source": []
    },
    {
      "cell_type": "code",
      "execution_count": 21,
      "metadata": {
        "colab": {
          "base_uri": "https://localhost:8080/",
          "height": 449
        },
        "id": "GaYO1lg8VFpB",
        "outputId": "5de70fff-d144-4e50-fadb-c917973e451c"
      },
      "outputs": [
        {
          "data": {
            "image/png": "[encoded data removed]",
            "text/plain": [
              "<Figure size 640x480 with 1 Axes>"
            ]
          },
          "metadata": {},
          "output_type": "display_data"
        }
      ],
      "source": [
        "sns.countplot(x=df[\"Fraud\"],hue=\"MaritalStatus\",palette=\"hot_r\",data=df)\n",
        "plt.show()"
      ]
    },
    {
      "cell_type": "code",
      "execution_count": 22,
      "metadata": {
        "colab": {
          "base_uri": "https://localhost:8080/",
          "height": 428
        },
        "id": "HOoM5mXSVO-v",
        "outputId": "5fccbb06-8f0d-42e2-dbf1-f84ad97f6f0a"
      },
      "outputs": [
        {
          "data": {
            "image/png": "[encoded data removed]",
            "text/plain": [
              "<Figure size 640x480 with 1 Axes>"
            ]
          },
          "metadata": {},
          "output_type": "display_data"
        }
      ],
      "source": [
        "df[\"Sex\"].value_counts().plot(kind=\"pie\")\n",
        "plt.title(\"Gender Distribution\")\n",
        "plt.show()"
      ]
    },
    {
      "cell_type": "code",
      "execution_count": 23,
      "metadata": {
        "colab": {
          "base_uri": "https://localhost:8080/",
          "height": 520
        },
        "id": "wyKNJWwyV9E2",
        "outputId": "6f59f476-f374-4463-b4d7-68c7f03b6cf5"
      },
      "outputs": [
        {
          "data": {
            "image/png": "[encoded data removed]",
            "text/plain": [
              "<Figure size 640x480 with 1 Axes>"
            ]
          },
          "metadata": {},
          "output_type": "display_data"
        }
      ],
      "source": [
        "df[\"MaritalStatus\"].value_counts().plot(kind=\"bar\",color=[\"Green\",\"Blue\",\"Red\",\"yellow\"])\n",
        "plt.title(\"Marital Status Distribution\")\n",
        "plt.show()"
      ]
    },
    {
      "cell_type": "code",
      "execution_count": 24,
      "metadata": {
        "colab": {
          "base_uri": "https://localhost:8080/",
          "height": 449
        },
        "id": "iyxXMOKDWl8h",
        "outputId": "1f139a5a-6db7-4d40-ad49-6723cba3e4fd"
      },
      "outputs": [
        {
          "data": {
            "image/png": "[encoded data removed]",
            "text/plain": [
              "<Figure size 640x480 with 1 Axes>"
            ]
          },
          "metadata": {},
          "output_type": "display_data"
        }
      ],
      "source": [
        "sns.countplot(x=df[\"Fraud\"],hue=\"Fault\",palette=\"hot_r\",data=df)\n",
        "plt.show()"
      ]
    },
    {
      "cell_type": "code",
      "execution_count": 25,
      "metadata": {
        "colab": {
          "base_uri": "https://localhost:8080/",
          "height": 449
        },
        "id": "5i2ELQBHXWGO",
        "outputId": "ff1e8c1c-8d3c-432f-e389-41f590452192"
      },
      "outputs": [
        {
          "data": {
            "image/png": "[encoded data removed]",
            "text/plain": [
              "<Figure size 640x480 with 1 Axes>"
            ]
          },
          "metadata": {},
          "output_type": "display_data"
        }
      ],
      "source": [
        "sns.countplot(x=df[\"Fraud\"],hue=\"AccidentArea\",palette=\"Reds\",data=df)\n",
        "plt.show()"
      ]
    },
    {
      "cell_type": "code",
      "execution_count": 26,
      "metadata": {
        "colab": {
          "base_uri": "https://localhost:8080/",
          "height": 559
        },
        "id": "0cxntGOkXflo",
        "outputId": "b3811a34-7861-4786-dc81-02dcc1dbd4c0"
      },
      "outputs": [
        {
          "name": "stderr",
          "output_type": "stream",
          "text": [
            "<ipython-input-26-024b01725cb2>:6: FutureWarning: \n",
            "\n",
            "Passing `palette` without assigning `hue` is deprecated and will be removed in v0.14.0. Assign the `x` variable to `hue` and set `legend=False` for the same effect.\n",
            "\n",
            "  sns.barplot(data=fraud_count_by_month, x=\"Month\", y=\"Fraud\", palette=\"Blues\")\n"
          ]
        },
        {
          "data": {
            "image/png": "[encoded data removed]",
            "text/plain": [
              "<Figure size 640x480 with 1 Axes>"
            ]
          },
          "metadata": {},
          "output_type": "display_data"
        }
      ],
      "source": [
        "import seaborn as sns\n",
        "import matplotlib.pyplot as plt\n",
        "\n",
        "fraud_count_by_month = df.groupby(\"Month\")[\"Fraud\"].sum().reset_index()\n",
        "\n",
        "sns.barplot(data=fraud_count_by_month, x=\"Month\", y=\"Fraud\", palette=\"Blues\")\n",
        "plt.xlabel(\"Month\")\n",
        "plt.ylabel(\"Total Fraud Cases\")\n",
        "plt.title(\"Total Fraud Cases by Month\")\n",
        "plt.show()"
      ]
    },
    {
      "cell_type": "code",
      "execution_count": 27,
      "metadata": {
        "colab": {
          "base_uri": "https://localhost:8080/",
          "height": 559
        },
        "id": "n-YfMhPNYLBU",
        "outputId": "6efdb730-df76-48dd-a09f-09bcf512399f"
      },
      "outputs": [
        {
          "name": "stderr",
          "output_type": "stream",
          "text": [
            "<ipython-input-27-ead7934478fe>:3: FutureWarning: \n",
            "\n",
            "Passing `palette` without assigning `hue` is deprecated and will be removed in v0.14.0. Assign the `x` variable to `hue` and set `legend=False` for the same effect.\n",
            "\n",
            "  sns.barplot(data=fraud_count_by_month, x=\"Year\", y=\"Fraud\", palette=\"Greens\")\n"
          ]
        },
        {
          "data": {
            "image/png": "[encoded data removed]",
            "text/plain": [
              "<Figure size 640x480 with 1 Axes>"
            ]
          },
          "metadata": {},
          "output_type": "display_data"
        }
      ],
      "source": [
        "\n",
        "\n",
        "fraud_count_by_month = df.groupby(\"Year\")[\"Fraud\"].sum().reset_index()\n",
        "\n",
        "sns.barplot(data=fraud_count_by_month, x=\"Year\", y=\"Fraud\", palette=\"Greens\")\n",
        "plt.xlabel(\"Year\")\n",
        "plt.ylabel(\"Total Fraud Cases\")\n",
        "plt.title(\"Total Fraud Cases by Year\")\n",
        "plt.show()"
      ]
    },
    {
      "cell_type": "markdown",
      "metadata": {
        "id": "S-NX9zV_5Z5C"
      },
      "source": [
        "**CREATION OF MODEL**"
      ]
    },
    {
      "cell_type": "code",
      "execution_count": 30,
      "metadata": {
        "id": "-CL4AhCN5ZAI"
      },
      "outputs": [],
      "source": [
        "En_col=[\"AccidentArea\",\"MonthClaimed\",\"Make\",\"DayOfWeek\",\"WitnessPresent\",\"VehicleCategory\",\"PolicyType\",\"PoliceReportFiled\",\"Fault\",\"Month\",\"Sex\",\"MaritalStatus\",\"AgentType\",\"NumberOfCars\",\"BasePolicy\"]\n",
        "from sklearn.preprocessing import LabelEncoder\n",
        "\n",
        "for col in En_col:\n",
        "    lb=LabelEncoder()\n",
        "    df[col]=lb.fit_transform(df[col])"
      ]
    },
    {
      "cell_type": "code",
      "execution_count": 32,
      "metadata": {
        "id": "Vyk2purn_r4-"
      },
      "outputs": [],
      "source": [
        "# independent variable and dependent variable\n",
        "x=df[[\"AccidentArea\",\"MonthClaimed\",\"Make\",\"DayOfWeek\",\"WitnessPresent\",\"VehicleCategory\",\"PolicyType\",\"PoliceReportFiled\",\"Fault\",\"Month\",\"Sex\",\"MaritalStatus\",\"AgentType\",\"NumberOfCars\",\"BasePolicy\"]]\n",
        "y=df[\"Fraud\"]"
      ]
    },
    {
      "cell_type": "code",
      "execution_count": 37,
      "metadata": {
        "id": "gwKvsbaWHoZ3"
      },
      "outputs": [],
      "source": [
        "from sklearn.model_selection import train_test_split\n",
        "x_train,x_test,y_train,y_test= train_test_split(x,y,test_size=0.25,random_state=0)\n",
        "from sklearn.preprocessing import StandardScaler\n",
        "sc=StandardScaler()\n",
        "x_train=sc.fit_transform(x_train)\n",
        "x_test=sc.fit_transform(x_test)"
      ]
    },
    {
      "cell_type": "code",
      "execution_count": 39,
      "metadata": {
        "colab": {
          "base_uri": "https://localhost:8080/",
          "height": 80
        },
        "id": "FkVvd9cwIeZx",
        "outputId": "48c4d102-4cf9-4347-e848-b66ec37f6785"
      },
      "outputs": [
        {
          "data": {
            "text/html": [
              "<style>#sk-container-id-1 {\n",
              "  /* Definition of color scheme common for light and dark mode */\n",
              "  --sklearn-color-text: #000;\n",
              "  --sklearn-color-text-muted: #666;\n",
              "  --sklearn-color-line: gray;\n",
              "  /* Definition of color scheme for unfitted estimators */\n",
              "  --sklearn-color-unfitted-level-0: #fff5e6;\n",
              "  --sklearn-color-unfitted-level-1: #f6e4d2;\n",
              "  --sklearn-color-unfitted-level-2: #ffe0b3;\n",
              "  --sklearn-color-unfitted-level-3: chocolate;\n",
              "  /* Definition of color scheme for fitted estimators */\n",
              "  --sklearn-color-fitted-level-0: #f0f8ff;\n",
              "  --sklearn-color-fitted-level-1: #d4ebff;\n",
              "  --sklearn-color-fitted-level-2: #b3dbfd;\n",
              "  --sklearn-color-fitted-level-3: cornflowerblue;\n",
              "\n",
              "  /* Specific color for light theme */\n",
              "  --sklearn-color-text-on-default-background: var(--sg-text-color, var(--theme-code-foreground, var(--jp-content-font-color1, black)));\n",
              "  --sklearn-color-background: var(--sg-background-color, var(--theme-background, var(--jp-layout-color0, white)));\n",
              "  --sklearn-color-border-box: var(--sg-text-color, var(--theme-code-foreground, var(--jp-content-font-color1, black)));\n",
              "  --sklearn-color-icon: #696969;\n",
              "\n",
              "  @media (prefers-color-scheme: dark) {\n",
              "    /* Redefinition of color scheme for dark theme */\n",
              "    --sklearn-color-text-on-default-background: var(--sg-text-color, var(--theme-code-foreground, var(--jp-content-font-color1, white)));\n",
              "    --sklearn-color-background: var(--sg-background-color, var(--theme-background, var(--jp-layout-color0, #111)));\n",
              "    --sklearn-color-border-box: var(--sg-text-color, var(--theme-code-foreground, var(--jp-content-font-color1, white)));\n",
              "    --sklearn-color-icon: #878787;\n",
              "  }\n",
              "}\n",
              "\n",
              "#sk-container-id-1 {\n",
              "  color: var(--sklearn-color-text);\n",
              "}\n",
              "\n",
              "#sk-container-id-1 pre {\n",
              "  padding: 0;\n",
              "}\n",
              "\n",
              "#sk-container-id-1 input.sk-hidden--visually {\n",
              "  border: 0;\n",
              "  clip: rect(1px 1px 1px 1px);\n",
              "  clip: rect(1px, 1px, 1px, 1px);\n",
              "  height: 1px;\n",
              "  margin: -1px;\n",
              "  overflow: hidden;\n",
              "  padding: 0;\n",
              "  position: absolute;\n",
              "  width: 1px;\n",
              "}\n",
              "\n",
              "#sk-container-id-1 div.sk-dashed-wrapped {\n",
              "  border: 1px dashed var(--sklearn-color-line);\n",
              "  margin: 0 0.4em 0.5em 0.4em;\n",
              "  box-sizing: border-box;\n",
              "  padding-bottom: 0.4em;\n",
              "  background-color: var(--sklearn-color-background);\n",
              "}\n",
              "\n",
              "#sk-container-id-1 div.sk-container {\n",
              "  /* jupyter's `normalize.less` sets `[hidden] { display: none; }`\n",
              "     but bootstrap.min.css set `[hidden] { display: none !important; }`\n",
              "     so we also need the `!important` here to be able to override the\n",
              "     default hidden behavior on the sphinx rendered scikit-learn.org.\n",
              "     See: https://github.com/scikit-learn/scikit-learn/issues/21755 */\n",
              "  display: inline-block !important;\n",
              "  position: relative;\n",
              "}\n",
              "\n",
              "#sk-container-id-1 div.sk-text-repr-fallback {\n",
              "  display: none;\n",
              "}\n",
              "\n",
              "div.sk-parallel-item,\n",
              "div.sk-serial,\n",
              "div.sk-item {\n",
              "  /* draw centered vertical line to link estimators */\n",
              "  background-image: linear-gradient(var(--sklearn-color-text-on-default-background), var(--sklearn-color-text-on-default-background));\n",
              "  background-size: 2px 100%;\n",
              "  background-repeat: no-repeat;\n",
              "  background-position: center center;\n",
              "}\n",
              "\n",
              "/* Parallel-specific style estimator block */\n",
              "\n",
              "#sk-container-id-1 div.sk-parallel-item::after {\n",
              "  content: \"\";\n",
              "  width: 100%;\n",
              "  border-bottom: 2px solid var(--sklearn-color-text-on-default-background);\n",
              "  flex-grow: 1;\n",
              "}\n",
              "\n",
              "#sk-container-id-1 div.sk-parallel {\n",
              "  display: flex;\n",
              "  align-items: stretch;\n",
              "  justify-content: center;\n",
              "  background-color: var(--sklearn-color-background);\n",
              "  position: relative;\n",
              "}\n",
              "\n",
              "#sk-container-id-1 div.sk-parallel-item {\n",
              "  display: flex;\n",
              "  flex-direction: column;\n",
              "}\n",
              "\n",
              "#sk-container-id-1 div.sk-parallel-item:first-child::after {\n",
              "  align-self: flex-end;\n",
              "  width: 50%;\n",
              "}\n",
              "\n",
              "#sk-container-id-1 div.sk-parallel-item:last-child::after {\n",
              "  align-self: flex-start;\n",
              "  width: 50%;\n",
              "}\n",
              "\n",
              "#sk-container-id-1 div.sk-parallel-item:only-child::after {\n",
              "  width: 0;\n",
              "}\n",
              "\n",
              "/* Serial-specific style estimator block */\n",
              "\n",
              "#sk-container-id-1 div.sk-serial {\n",
              "  display: flex;\n",
              "  flex-direction: column;\n",
              "  align-items: center;\n",
              "  background-color: var(--sklearn-color-background);\n",
              "  padding-right: 1em;\n",
              "  padding-left: 1em;\n",
              "}\n",
              "\n",
              "\n",
              "/* Toggleable style: style used for estimator/Pipeline/ColumnTransformer box that is\n",
              "clickable and can be expanded/collapsed.\n",
              "- Pipeline and ColumnTransformer use this feature and define the default style\n",
              "- Estimators will overwrite some part of the style using the `sk-estimator` class\n",
              "*/\n",
              "\n",
              "/* Pipeline and ColumnTransformer style (default) */\n",
              "\n",
              "#sk-container-id-1 div.sk-toggleable {\n",
              "  /* Default theme specific background. It is overwritten whether we have a\n",
              "  specific estimator or a Pipeline/ColumnTransformer */\n",
              "  background-color: var(--sklearn-color-background);\n",
              "}\n",
              "\n",
              "/* Toggleable label */\n",
              "#sk-container-id-1 label.sk-toggleable__label {\n",
              "  cursor: pointer;\n",
              "  display: flex;\n",
              "  width: 100%;\n",
              "  margin-bottom: 0;\n",
              "  padding: 0.5em;\n",
              "  box-sizing: border-box;\n",
              "  text-align: center;\n",
              "  align-items: start;\n",
              "  justify-content: space-between;\n",
              "  gap: 0.5em;\n",
              "}\n",
              "\n",
              "#sk-container-id-1 label.sk-toggleable__label .caption {\n",
              "  font-size: 0.6rem;\n",
              "  font-weight: lighter;\n",
              "  color: var(--sklearn-color-text-muted);\n",
              "}\n",
              "\n",
              "#sk-container-id-1 label.sk-toggleable__label-arrow:before {\n",
              "  /* Arrow on the left of the label */\n",
              "  content: \"▸\";\n",
              "  float: left;\n",
              "  margin-right: 0.25em;\n",
              "  color: var(--sklearn-color-icon);\n",
              "}\n",
              "\n",
              "#sk-container-id-1 label.sk-toggleable__label-arrow:hover:before {\n",
              "  color: var(--sklearn-color-text);\n",
              "}\n",
              "\n",
              "/* Toggleable content - dropdown */\n",
              "\n",
              "#sk-container-id-1 div.sk-toggleable__content {\n",
              "  max-height: 0;\n",
              "  max-width: 0;\n",
              "  overflow: hidden;\n",
              "  text-align: left;\n",
              "  /* unfitted */\n",
              "  background-color: var(--sklearn-color-unfitted-level-0);\n",
              "}\n",
              "\n",
              "#sk-container-id-1 div.sk-toggleable__content.fitted {\n",
              "  /* fitted */\n",
              "  background-color: var(--sklearn-color-fitted-level-0);\n",
              "}\n",
              "\n",
              "#sk-container-id-1 div.sk-toggleable__content pre {\n",
              "  margin: 0.2em;\n",
              "  border-radius: 0.25em;\n",
              "  color: var(--sklearn-color-text);\n",
              "  /* unfitted */\n",
              "  background-color: var(--sklearn-color-unfitted-level-0);\n",
              "}\n",
              "\n",
              "#sk-container-id-1 div.sk-toggleable__content.fitted pre {\n",
              "  /* unfitted */\n",
              "  background-color: var(--sklearn-color-fitted-level-0);\n",
              "}\n",
              "\n",
              "#sk-container-id-1 input.sk-toggleable__control:checked~div.sk-toggleable__content {\n",
              "  /* Expand drop-down */\n",
              "  max-height: 200px;\n",
              "  max-width: 100%;\n",
              "  overflow: auto;\n",
              "}\n",
              "\n",
              "#sk-container-id-1 input.sk-toggleable__control:checked~label.sk-toggleable__label-arrow:before {\n",
              "  content: \"▾\";\n",
              "}\n",
              "\n",
              "/* Pipeline/ColumnTransformer-specific style */\n",
              "\n",
              "#sk-container-id-1 div.sk-label input.sk-toggleable__control:checked~label.sk-toggleable__label {\n",
              "  color: var(--sklearn-color-text);\n",
              "  background-color: var(--sklearn-color-unfitted-level-2);\n",
              "}\n",
              "\n",
              "#sk-container-id-1 div.sk-label.fitted input.sk-toggleable__control:checked~label.sk-toggleable__label {\n",
              "  background-color: var(--sklearn-color-fitted-level-2);\n",
              "}\n",
              "\n",
              "/* Estimator-specific style */\n",
              "\n",
              "/* Colorize estimator box */\n",
              "#sk-container-id-1 div.sk-estimator input.sk-toggleable__control:checked~label.sk-toggleable__label {\n",
              "  /* unfitted */\n",
              "  background-color: var(--sklearn-color-unfitted-level-2);\n",
              "}\n",
              "\n",
              "#sk-container-id-1 div.sk-estimator.fitted input.sk-toggleable__control:checked~label.sk-toggleable__label {\n",
              "  /* fitted */\n",
              "  background-color: var(--sklearn-color-fitted-level-2);\n",
              "}\n",
              "\n",
              "#sk-container-id-1 div.sk-label label.sk-toggleable__label,\n",
              "#sk-container-id-1 div.sk-label label {\n",
              "  /* The background is the default theme color */\n",
              "  color: var(--sklearn-color-text-on-default-background);\n",
              "}\n",
              "\n",
              "/* On hover, darken the color of the background */\n",
              "#sk-container-id-1 div.sk-label:hover label.sk-toggleable__label {\n",
              "  color: var(--sklearn-color-text);\n",
              "  background-color: var(--sklearn-color-unfitted-level-2);\n",
              "}\n",
              "\n",
              "/* Label box, darken color on hover, fitted */\n",
              "#sk-container-id-1 div.sk-label.fitted:hover label.sk-toggleable__label.fitted {\n",
              "  color: var(--sklearn-color-text);\n",
              "  background-color: var(--sklearn-color-fitted-level-2);\n",
              "}\n",
              "\n",
              "/* Estimator label */\n",
              "\n",
              "#sk-container-id-1 div.sk-label label {\n",
              "  font-family: monospace;\n",
              "  font-weight: bold;\n",
              "  display: inline-block;\n",
              "  line-height: 1.2em;\n",
              "}\n",
              "\n",
              "#sk-container-id-1 div.sk-label-container {\n",
              "  text-align: center;\n",
              "}\n",
              "\n",
              "/* Estimator-specific */\n",
              "#sk-container-id-1 div.sk-estimator {\n",
              "  font-family: monospace;\n",
              "  border: 1px dotted var(--sklearn-color-border-box);\n",
              "  border-radius: 0.25em;\n",
              "  box-sizing: border-box;\n",
              "  margin-bottom: 0.5em;\n",
              "  /* unfitted */\n",
              "  background-color: var(--sklearn-color-unfitted-level-0);\n",
              "}\n",
              "\n",
              "#sk-container-id-1 div.sk-estimator.fitted {\n",
              "  /* fitted */\n",
              "  background-color: var(--sklearn-color-fitted-level-0);\n",
              "}\n",
              "\n",
              "/* on hover */\n",
              "#sk-container-id-1 div.sk-estimator:hover {\n",
              "  /* unfitted */\n",
              "  background-color: var(--sklearn-color-unfitted-level-2);\n",
              "}\n",
              "\n",
              "#sk-container-id-1 div.sk-estimator.fitted:hover {\n",
              "  /* fitted */\n",
              "  background-color: var(--sklearn-color-fitted-level-2);\n",
              "}\n",
              "\n",
              "/* Specification for estimator info (e.g. \"i\" and \"?\") */\n",
              "\n",
              "/* Common style for \"i\" and \"?\" */\n",
              "\n",
              ".sk-estimator-doc-link,\n",
              "a:link.sk-estimator-doc-link,\n",
              "a:visited.sk-estimator-doc-link {\n",
              "  float: right;\n",
              "  font-size: smaller;\n",
              "  line-height: 1em;\n",
              "  font-family: monospace;\n",
              "  background-color: var(--sklearn-color-background);\n",
              "  border-radius: 1em;\n",
              "  height: 1em;\n",
              "  width: 1em;\n",
              "  text-decoration: none !important;\n",
              "  margin-left: 0.5em;\n",
              "  text-align: center;\n",
              "  /* unfitted */\n",
              "  border: var(--sklearn-color-unfitted-level-1) 1pt solid;\n",
              "  color: var(--sklearn-color-unfitted-level-1);\n",
              "}\n",
              "\n",
              ".sk-estimator-doc-link.fitted,\n",
              "a:link.sk-estimator-doc-link.fitted,\n",
              "a:visited.sk-estimator-doc-link.fitted {\n",
              "  /* fitted */\n",
              "  border: var(--sklearn-color-fitted-level-1) 1pt solid;\n",
              "  color: var(--sklearn-color-fitted-level-1);\n",
              "}\n",
              "\n",
              "/* On hover */\n",
              "div.sk-estimator:hover .sk-estimator-doc-link:hover,\n",
              ".sk-estimator-doc-link:hover,\n",
              "div.sk-label-container:hover .sk-estimator-doc-link:hover,\n",
              ".sk-estimator-doc-link:hover {\n",
              "  /* unfitted */\n",
              "  background-color: var(--sklearn-color-unfitted-level-3);\n",
              "  color: var(--sklearn-color-background);\n",
              "  text-decoration: none;\n",
              "}\n",
              "\n",
              "div.sk-estimator.fitted:hover .sk-estimator-doc-link.fitted:hover,\n",
              ".sk-estimator-doc-link.fitted:hover,\n",
              "div.sk-label-container:hover .sk-estimator-doc-link.fitted:hover,\n",
              ".sk-estimator-doc-link.fitted:hover {\n",
              "  /* fitted */\n",
              "  background-color: var(--sklearn-color-fitted-level-3);\n",
              "  color: var(--sklearn-color-background);\n",
              "  text-decoration: none;\n",
              "}\n",
              "\n",
              "/* Span, style for the box shown on hovering the info icon */\n",
              ".sk-estimator-doc-link span {\n",
              "  display: none;\n",
              "  z-index: 9999;\n",
              "  position: relative;\n",
              "  font-weight: normal;\n",
              "  right: .2ex;\n",
              "  padding: .5ex;\n",
              "  margin: .5ex;\n",
              "  width: min-content;\n",
              "  min-width: 20ex;\n",
              "  max-width: 50ex;\n",
              "  color: var(--sklearn-color-text);\n",
              "  box-shadow: 2pt 2pt 4pt #999;\n",
              "  /* unfitted */\n",
              "  background: var(--sklearn-color-unfitted-level-0);\n",
              "  border: .5pt solid var(--sklearn-color-unfitted-level-3);\n",
              "}\n",
              "\n",
              ".sk-estimator-doc-link.fitted span {\n",
              "  /* fitted */\n",
              "  background: var(--sklearn-color-fitted-level-0);\n",
              "  border: var(--sklearn-color-fitted-level-3);\n",
              "}\n",
              "\n",
              ".sk-estimator-doc-link:hover span {\n",
              "  display: block;\n",
              "}\n",
              "\n",
              "/* \"?\"-specific style due to the `<a>` HTML tag */\n",
              "\n",
              "#sk-container-id-1 a.estimator_doc_link {\n",
              "  float: right;\n",
              "  font-size: 1rem;\n",
              "  line-height: 1em;\n",
              "  font-family: monospace;\n",
              "  background-color: var(--sklearn-color-background);\n",
              "  border-radius: 1rem;\n",
              "  height: 1rem;\n",
              "  width: 1rem;\n",
              "  text-decoration: none;\n",
              "  /* unfitted */\n",
              "  color: var(--sklearn-color-unfitted-level-1);\n",
              "  border: var(--sklearn-color-unfitted-level-1) 1pt solid;\n",
              "}\n",
              "\n",
              "#sk-container-id-1 a.estimator_doc_link.fitted {\n",
              "  /* fitted */\n",
              "  border: var(--sklearn-color-fitted-level-1) 1pt solid;\n",
              "  color: var(--sklearn-color-fitted-level-1);\n",
              "}\n",
              "\n",
              "/* On hover */\n",
              "#sk-container-id-1 a.estimator_doc_link:hover {\n",
              "  /* unfitted */\n",
              "  background-color: var(--sklearn-color-unfitted-level-3);\n",
              "  color: var(--sklearn-color-background);\n",
              "  text-decoration: none;\n",
              "}\n",
              "\n",
              "#sk-container-id-1 a.estimator_doc_link.fitted:hover {\n",
              "  /* fitted */\n",
              "  background-color: var(--sklearn-color-fitted-level-3);\n",
              "}\n",
              "</style><div id=\"sk-container-id-1\" class=\"sk-top-container\"><div class=\"sk-text-repr-fallback\"><pre>KNeighborsClassifier()</pre><b>In a Jupyter environment, please rerun this cell to show the HTML representation or trust the notebook. <br />On GitHub, the HTML representation is unable to render, please try loading this page with nbviewer.org.</b></div><div class=\"sk-container\" hidden><div class=\"sk-item\"><div class=\"sk-estimator fitted sk-toggleable\"><input class=\"sk-toggleable__control sk-hidden--visually\" id=\"sk-estimator-id-1\" type=\"checkbox\" checked><label for=\"sk-estimator-id-1\" class=\"sk-toggleable__label fitted sk-toggleable__label-arrow\"><div><div>KNeighborsClassifier</div></div><div><a class=\"sk-estimator-doc-link fitted\" rel=\"noreferrer\" target=\"_blank\" href=\"https://scikit-learn.org/1.6/modules/generated/sklearn.neighbors.KNeighborsClassifier.html\">?<span>Documentation for KNeighborsClassifier</span></a><span class=\"sk-estimator-doc-link fitted\">i<span>Fitted</span></span></div></label><div class=\"sk-toggleable__content fitted\"><pre>KNeighborsClassifier()</pre></div> </div></div></div></div>"
            ],
            "text/plain": [
              "KNeighborsClassifier()"
            ]
          },
          "execution_count": 39,
          "metadata": {},
          "output_type": "execute_result"
        }
      ],
      "source": [
        "from sklearn.neighbors import KNeighborsClassifier\n",
        "classifier=KNeighborsClassifier(n_neighbors=5,metric='minkowski',p=2)\n",
        "classifier.fit(x_train,y_train)"
      ]
    },
    {
      "cell_type": "code",
      "execution_count": 43,
      "metadata": {
        "colab": {
          "base_uri": "https://localhost:8080/"
        },
        "id": "l3NTf-qhLQ26",
        "outputId": "18368b2c-2291-475c-b5cd-4ea297ef90f4"
      },
      "outputs": [
        {
          "name": "stdout",
          "output_type": "stream",
          "text": [
            "Accuracy: 93.44\n"
          ]
        }
      ],
      "source": [
        "from sklearn.metrics import confusion_matrix,accuracy_score\n",
        "y_pred=classifier.predict(x_test)\n",
        "\n",
        "accuracy = accuracy_score(y_test, y_pred)\n",
        "print('Accuracy: %.2f' % (accuracy*100))"
      ]
    }
  ],
  "metadata": {
    "colab": {
      "provenance": []
    },
    "kernelspec": {
      "display_name": "Python 3",
      "name": "python3"
    },
    "language_info": {
      "name": "python"
    }
  },
  "nbformat": 4,
  "nbformat_minor": 0
}
